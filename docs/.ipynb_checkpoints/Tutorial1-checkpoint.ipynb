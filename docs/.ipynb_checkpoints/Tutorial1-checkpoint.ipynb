{
 "cells": [
  {
   "cell_type": "markdown",
   "id": "da571fe9",
   "metadata": {
    "heading_collapsed": true
   },
   "source": [
    "# Introduction"
   ]
  },
  {
   "cell_type": "markdown",
   "id": "5de7fcbd",
   "metadata": {
    "hidden": true
   },
   "source": [
    "## Overview"
   ]
  },
  {
   "cell_type": "markdown",
   "id": "44a08e59",
   "metadata": {
    "hidden": true
   },
   "source": [
    "StrGraphCpp is a graph-based computation system designed for efficient string manipulation. It models computations and data dependencies as a Directed Acyclic Graph (DAG), where nodes represent string values and edges represent operations between nodes. The graph structure is defined in Python, allowing users to create flexible string-processing pipelines, while the computationally heavy operations are efficiently handled by a C++ backend."
   ]
  },
  {
   "cell_type": "markdown",
   "id": "daa1192c",
   "metadata": {
    "ExecuteTime": {
     "end_time": "2024-09-22T01:59:11.106074Z",
     "start_time": "2024-09-22T01:59:11.095599Z"
    },
    "hidden": true
   },
   "source": [
    "The core classes revolves around:\n",
    "\n",
    "**Nodes**: Representing string values or intermediate results.\n",
    "\n",
    "**Operations**: Functions that process strings by combining or modifying node values."
   ]
  },
  {
   "cell_type": "markdown",
   "id": "59d1c2ee",
   "metadata": {
    "hidden": true
   },
   "source": [
    "## Hello world"
   ]
  },
  {
   "cell_type": "code",
   "execution_count": 1,
   "id": "2bb3926a",
   "metadata": {
    "ExecuteTime": {
     "end_time": "2024-09-22T01:54:55.717262Z",
     "start_time": "2024-09-22T01:54:55.708418Z"
    },
    "hidden": true
   },
   "outputs": [
    {
     "name": "stdout",
     "output_type": "stream",
     "text": [
      "Operation Info:\n",
      "  Name: Concat\n",
      "  Params: \n",
      "\n",
      "====== Node Info ======\n",
      "Node 3: \"Hello, World!\"  Operation: Concat\n",
      "Operation Info:\n",
      "  Name: Concat\n",
      "  Params: \n",
      "  Input Nodes Values: \"Hello, \" \"World!\" \n"
     ]
    }
   ],
   "source": [
    "import strgraph\n",
    "from strgraph import Node, Concat, manager, Operations, Operation\n",
    "\n",
    "# List available operations using the globally exposed 'manager'\n",
    "manager.list_operations()\n",
    "\n",
    "# Retrieve the 'concat' operation\n",
    "concat_op = Operations(\"Concat\")\n",
    "\n",
    "concat_op.print_info()\n",
    "\n",
    "# Test concatenation operation using NodeFactory\n",
    "node1 = Node(\"Hello, \")\n",
    "node2 = Node(\"World!\")\n",
    "\n",
    "node3 = Concat(node1, node2)\n",
    "\n",
    "node3.compute_string()\n",
    "\n",
    "node3.print_info()"
   ]
  },
  {
   "cell_type": "markdown",
   "id": "bc8c1fd7",
   "metadata": {},
   "source": [
    "# Installation"
   ]
  },
  {
   "cell_type": "markdown",
   "id": "160e31ed",
   "metadata": {},
   "source": [
    "To build and run StrGraphCpp, you will need Python 3.6 or higher, along with a C++11-compatible compiler. The package relies on pybind11 for creating Python bindings for the C++ code, and setuptools for building and distributing the package. You will also need CMake for managing the build process, and Python development headers (e.g., python3-dev for Linux or equivalent for your OS). On Linux, dependencies like python3-dev, cmake, and g++ can be installed via apt, while on macOS, tools like Python and CMake can be installed using brew. For Windows, you need Visual Studio with C++ tools and can install CMake and pybind11 via pip."
   ]
  },
  {
   "cell_type": "markdown",
   "id": "8e6bd71c",
   "metadata": {},
   "source": [
    "1. To install, download the source code to path/to/StrGraph.\n",
    "\n",
    "2. Open a terminal and navigate to the src/python directory within the source code.\n",
    "\n",
    "3. Install the package using pip \"pip install .\"\n",
    "\n",
    "Ensure that the Python version used for installation is the same version you will use for running the package.\n",
    "\n",
    "4. To verify the installation, open a Python environment and import the package: \"import strgraph\"."
   ]
  }
 ],
 "metadata": {
  "kernelspec": {
   "display_name": "Python 3 (ipykernel)",
   "language": "python",
   "name": "python3"
  },
  "language_info": {
   "codemirror_mode": {
    "name": "ipython",
    "version": 3
   },
   "file_extension": ".py",
   "mimetype": "text/x-python",
   "name": "python",
   "nbconvert_exporter": "python",
   "pygments_lexer": "ipython3",
   "version": "3.10.11"
  },
  "toc": {
   "base_numbering": 1,
   "nav_menu": {},
   "number_sections": true,
   "sideBar": true,
   "skip_h1_title": false,
   "title_cell": "Table of Contents",
   "title_sidebar": "Contents",
   "toc_cell": false,
   "toc_position": {},
   "toc_section_display": true,
   "toc_window_display": false
  },
  "varInspector": {
   "cols": {
    "lenName": 16,
    "lenType": 16,
    "lenVar": 40
   },
   "kernels_config": {
    "python": {
     "delete_cmd_postfix": "",
     "delete_cmd_prefix": "del ",
     "library": "var_list.py",
     "varRefreshCmd": "print(var_dic_list())"
    },
    "r": {
     "delete_cmd_postfix": ") ",
     "delete_cmd_prefix": "rm(",
     "library": "var_list.r",
     "varRefreshCmd": "cat(var_dic_list()) "
    }
   },
   "types_to_exclude": [
    "module",
    "function",
    "builtin_function_or_method",
    "instance",
    "_Feature"
   ],
   "window_display": false
  }
 },
 "nbformat": 4,
 "nbformat_minor": 5
}
