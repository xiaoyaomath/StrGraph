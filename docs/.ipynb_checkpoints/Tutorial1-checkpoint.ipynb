{
 "cells": [
  {
   "cell_type": "markdown",
   "id": "203f1f85",
   "metadata": {},
   "source": [
    "# Introduction"
   ]
  },
  {
   "cell_type": "markdown",
   "id": "e81989c1",
   "metadata": {},
   "source": [
    "## Overview"
   ]
  },
  {
   "cell_type": "markdown",
   "id": "b02f990d",
   "metadata": {},
   "source": [
    "StrGraphCpp is a graph-based computation system designed for efficient string manipulation. It models computations and data dependencies as a Directed Acyclic Graph (DAG), where nodes represent string values and edges represent operations between nodes. The graph structure is defined in Python, allowing users to create flexible string-processing pipelines, while the computationally heavy operations are efficiently handled by a C++ backend."
   ]
  },
  {
   "cell_type": "markdown",
   "id": "e4a26e7d",
   "metadata": {
    "ExecuteTime": {
     "end_time": "2024-09-22T01:59:11.106074Z",
     "start_time": "2024-09-22T01:59:11.095599Z"
    }
   },
   "source": [
    "The core classes revolves around:\n",
    "\n",
    "**Nodes**: Representing string values or intermediate results.\n",
    "\n",
    "**Operations**: Functions that process strings by combining or modifying node values."
   ]
  },
  {
   "cell_type": "markdown",
   "id": "3c75b1bd",
   "metadata": {},
   "source": [
    "## Hello world"
   ]
  },
  {
   "cell_type": "code",
   "execution_count": 1,
   "id": "eed89f7a",
   "metadata": {
    "ExecuteTime": {
     "end_time": "2024-09-23T06:11:39.985267Z",
     "start_time": "2024-09-23T06:11:37.661830Z"
    }
   },
   "outputs": [
    {
     "name": "stdout",
     "output_type": "stream",
     "text": [
      "Name: strgraph\n",
      "Version: 1.0.2\n",
      "Summary: A Python package to execute string operations using graph structure.\n",
      "Home-page: \n",
      "Author: Yao Xiao\n",
      "Author-email: xiaoyaoin1980@gmail.com\n",
      "License: \n",
      "Location: /Library/Frameworks/Python.framework/Versions/3.10/lib/python3.10/site-packages\n",
      "Requires: \n",
      "Required-by: \n",
      "Note: you may need to restart the kernel to use updated packages.\n"
     ]
    }
   ],
   "source": [
    "pip show strgraph"
   ]
  },
  {
   "cell_type": "code",
   "execution_count": 2,
   "id": "7e9786cc",
   "metadata": {
    "ExecuteTime": {
     "end_time": "2024-09-23T06:11:42.339702Z",
     "start_time": "2024-09-23T06:11:42.330442Z"
    }
   },
   "outputs": [
    {
     "name": "stdout",
     "output_type": "stream",
     "text": [
      "Operation Info:\n",
      "  Name: Concat\n",
      "  Params: \n",
      "\n",
      "====== Node Info ======\n",
      "Node 3: \"Hello, World!\"  Operation: Concat\n",
      "Operation Info:\n",
      "  Name: Concat\n",
      "  Params: \n",
      "  Input Nodes Values: \"Hello, \" \"World!\" \n"
     ]
    }
   ],
   "source": [
    "import strgraph\n",
    "from strgraph import Node, Concat, manager, Operations, Operation\n",
    "\n",
    "# List available operations using the globally exposed 'manager'\n",
    "manager.list_operations()\n",
    "\n",
    "# Retrieve the 'concat' operation\n",
    "concat_op = Operations(\"Concat\")\n",
    "\n",
    "concat_op.print_info()\n",
    "\n",
    "node1 = Node(\"Hello, \")\n",
    "node2 = Node(\"World!\")\n",
    "\n",
    "node3 = Concat([node1, node2])\n",
    "\n",
    "node3.compute_string()\n",
    "\n",
    "node3.print_info()"
   ]
  },
  {
   "cell_type": "markdown",
   "id": "a39cb605",
   "metadata": {},
   "source": [
    "# Installation"
   ]
  },
  {
   "cell_type": "markdown",
   "id": "3b40ce1b",
   "metadata": {},
   "source": [
    "To build and run StrGraphCpp, you will need Python 3.6 or higher, along with a C++11-compatible compiler. The package relies on pybind11 for creating Python bindings for the C++ code, and setuptools for building and distributing the package. You will also need CMake for managing the build process, and Python development headers (e.g., python3-dev for Linux or equivalent for your OS). On Linux, dependencies like python3-dev, cmake, and g++ can be installed via apt, while on macOS, tools like Python and CMake can be installed using brew. For Windows, you need Visual Studio with C++ tools and can install CMake and pybind11 via pip."
   ]
  },
  {
   "cell_type": "markdown",
   "id": "340e2004",
   "metadata": {},
   "source": [
    "1. To install, download the source code to path/to/StrGraph.\n",
    "\n",
    "2. Open a terminal and navigate to the src/python directory within the source code.\n",
    "\n",
    "3. Install the package using pip \"pip install .\"\n",
    "\n",
    "Ensure that the Python version used for installation is the same version you will use for running the package.\n",
    "\n",
    "4. To verify the installation, open a Python environment and import the package: \"import strgraph\"."
   ]
  },
  {
   "cell_type": "markdown",
   "id": "b6013321",
   "metadata": {},
   "source": [
    "# Node Class"
   ]
  },
  {
   "cell_type": "markdown",
   "id": "a43d7eac",
   "metadata": {},
   "source": [
    "The `Node` class represents a node in a computation graph for string operations. Each `Node` can hold a string value or represent an operation applied to other nodes. By connecting nodes, you can build complex string processing workflows."
   ]
  },
  {
   "cell_type": "markdown",
   "id": "02f51297",
   "metadata": {},
   "source": [
    "## Important Methods"
   ]
  },
  {
   "cell_type": "markdown",
   "id": "e4daa888",
   "metadata": {},
   "source": [
    "### `__init__(self, value, op=None, inputNodes=[])`\n",
    "**Description**: Creates a new `Node`.  \n",
    "- **value** (str): The string value of the node.  \n",
    "- **op** (Operation, optional): The operation to apply to the input nodes.  \n",
    "- **inputNodes** (list of `Node`, optional): The input nodes for the operation.  \n",
    "\n",
    "### `string()`\n",
    "**Description**: Returns the current string value of the node.\n",
    "\n",
    "### `input_nodes()`\n",
    "**Description**: Returns a list of input nodes.\n",
    "\n",
    "### `set_string(newValue)`\n",
    "**Description**: Sets the string value of the node.  \n",
    "- **newValue** (str): The new string value for the node.\n",
    "\n",
    "### `set_input_nodes(inputNodes)`\n",
    "**Description**: Sets the list of input nodes.  \n",
    "- **inputNodes** (list of `Node`): The input nodes for the operation.\n",
    "\n",
    "### `set_operation(op)`\n",
    "**Description**: Sets the operation to be applied on the input nodes.  \n",
    "- **op** (`Operation`): The operation to be applied.\n",
    "\n",
    "### `compute_string()`\n",
    "**Description**: Computes the string value by applying the operation to input nodes.\n",
    "\n",
    "### `compute_graph()`\n",
    "**Description**: Computes the string values of the entire graph starting from this node.\n",
    "\n",
    "### `print_info()`\n",
    "**Description**: Prints detailed information about the node.\n",
    "\n",
    "### `update_operation_params(params)`\n",
    "**Description**: Updates the parameters of the associated operation.  \n",
    "- **params** (list of int): Parameters for the operation.\n",
    "\n",
    "### `print_graph(indentLevel=0)`\n",
    "**Description**: Prints the structure of the graph starting from this node.  \n",
    "- **indentLevel** (int, optional): The indentation level for printing the graph structure."
   ]
  },
  {
   "cell_type": "markdown",
   "id": "d3162576",
   "metadata": {},
   "source": [
    "## Examples"
   ]
  },
  {
   "cell_type": "code",
   "execution_count": 3,
   "id": "51c840ea",
   "metadata": {
    "ExecuteTime": {
     "end_time": "2024-09-23T06:11:56.910273Z",
     "start_time": "2024-09-23T06:11:56.903126Z"
    }
   },
   "outputs": [],
   "source": [
    "from strgraph import Node, manager\n",
    "\n",
    "# Create a value node with the string 'a'\n",
    "node_a = Node('a')\n",
    "node_b = Node('b')\n",
    "node_c = Node('c')\n",
    "\n",
    "# Create an operation node that concatenates node 'a' and node 'b'\n",
    "# This uses the Node class's set_operation method to assign the Concat operation\n",
    "node_ab = Node(\"\", None, [node_a, node_b])\n",
    "node_ab.set_operation(manager.get_operation(\"Concat\"))\n",
    "\n",
    "node_abc = Node(\"\", None, [node_ab, node_c])\n",
    "node_abc.set_operation(manager.get_operation(\"Concat\"))"
   ]
  },
  {
   "cell_type": "code",
   "execution_count": 4,
   "id": "d742d383",
   "metadata": {
    "ExecuteTime": {
     "end_time": "2024-09-23T06:11:58.657111Z",
     "start_time": "2024-09-23T06:11:58.652961Z"
    }
   },
   "outputs": [
    {
     "name": "stdout",
     "output_type": "stream",
     "text": [
      "\n",
      "====== Node Info ======\n",
      "Node 4: \"a\"  Operation: None\n"
     ]
    }
   ],
   "source": [
    "node_a.print_info()"
   ]
  },
  {
   "cell_type": "code",
   "execution_count": 5,
   "id": "71c1f66d",
   "metadata": {
    "ExecuteTime": {
     "end_time": "2024-09-23T06:12:00.350346Z",
     "start_time": "2024-09-23T06:12:00.347172Z"
    }
   },
   "outputs": [
    {
     "name": "stdout",
     "output_type": "stream",
     "text": [
      "\n",
      "====== Node Info ======\n",
      "Node 8: \"\"  Operation: Concat\n",
      "Operation Info:\n",
      "  Name: Concat\n",
      "  Params: \n",
      "  Input Nodes Values: \"\" \"c\" \n"
     ]
    }
   ],
   "source": [
    "node_abc.print_info()"
   ]
  },
  {
   "cell_type": "code",
   "execution_count": 6,
   "id": "dfb809fc",
   "metadata": {
    "ExecuteTime": {
     "end_time": "2024-09-23T06:12:04.673835Z",
     "start_time": "2024-09-23T06:12:04.668015Z"
    }
   },
   "outputs": [
    {
     "name": "stdout",
     "output_type": "stream",
     "text": [
      "\n",
      "====== Graph Node ======\n",
      " Node 8: \"\" Operation: \"Concat\"\n",
      "-> Node 7: \"\" Operation: \"Concat\"\n",
      "->-> Node 4: \"a\" Operation: \n",
      "->-> Node 5: \"b\" Operation: \n",
      "-> Node 6: \"c\" Operation: \n"
     ]
    }
   ],
   "source": [
    "# The following two lines are commented out. They would have computed and returned the result of concatenation if run.\n",
    "# node_ab.compute_string()  # Computes the string of nodeab (which would be \"ab\")\n",
    "# node_abc.compute_string()  # Computes the string of nodeabc (which would be \"abc\")\n",
    "\n",
    "# Print the graph structure starting from nodeabc with indentation level 0\n",
    "# This will show the hierarchical relationship between the nodes in the graph.\n",
    "node_abc.print_graph(0)"
   ]
  },
  {
   "cell_type": "code",
   "execution_count": 7,
   "id": "9426482f",
   "metadata": {
    "ExecuteTime": {
     "end_time": "2024-09-23T06:12:07.377665Z",
     "start_time": "2024-09-23T06:12:07.372966Z"
    }
   },
   "outputs": [
    {
     "name": "stdout",
     "output_type": "stream",
     "text": [
      "\n",
      "====== BFS Traversal Order ======\n",
      "BFS Traversal Order: 8, 7, 6, 4, 5, \n",
      "\n",
      "====== Computing in Reverse Order ======\n",
      "Computing Node 5: b\n",
      "Computing Node 4: a\n",
      "Computing Node 6: c\n",
      "Computing Node 7: ab\n",
      "Computing Node 8: abc\n",
      "\n",
      "====== Graph Node ======\n",
      " Node 8: \"\" Operation: \"Concat\"\n",
      "-> Node 7: \"ab\" Operation: \"Concat\"\n",
      "->-> Node 4: \"a\" Operation: \n",
      "->-> Node 5: \"b\" Operation: \n",
      "-> Node 6: \"c\" Operation: \n"
     ]
    }
   ],
   "source": [
    "# Compute the graph starting from nodeabc\n",
    "# This will calculate the result for each node in the graph, resolving all dependencies in a topologically sorted order.\n",
    "node_abc.compute_graph()\n",
    "\n",
    "# Print the updated graph structure again after computation\n",
    "# After computation, the nodes in the graph will be updated with the results, so this print will reflect the computed values.\n",
    "node_abc.print_graph(0)"
   ]
  },
  {
   "cell_type": "markdown",
   "id": "54f47741",
   "metadata": {},
   "source": [
    "# Operation Class"
   ]
  },
  {
   "cell_type": "markdown",
   "id": "5a5a24c9",
   "metadata": {},
   "source": [
    "The `Operation` class encapsulates a string operation that can be applied to one or more input strings. Operations can be predefined (like 'Concat', 'Reverse') or user-defined functions."
   ]
  },
  {
   "cell_type": "markdown",
   "id": "3a3d3952",
   "metadata": {},
   "source": [
    "## Important Methods"
   ]
  },
  {
   "cell_type": "markdown",
   "id": "824b5962",
   "metadata": {},
   "source": [
    "### `__init__(self, func, params=[], name=\"\")`\n",
    "**Description**: Creates a new `Operation`.  \n",
    "- **func** (callable): A function that takes a list of strings and returns a string.  \n",
    "- **params** (list of int, optional): Parameters for the operation.  \n",
    "- **name** (str, optional): Name of the operation.\n",
    "\n",
    "### `compute(inputStrings)`\n",
    "**Description**: Applies the operation to the input strings and returns the result.  \n",
    "- **inputStrings** (list of str): The input strings on which the operation will be applied.  \n",
    "- **Returns**: The result of applying the operation.\n",
    "\n",
    "### `get_name()`\n",
    "**Description**: Returns the name of the operation.  \n",
    "- **Returns**: The name of the operation as a string.\n",
    "\n",
    "### `print_info()`\n",
    "**Description**: Prints detailed information about the operation.\n",
    "\n",
    "### `clone()`\n",
    "**Description**: Creates a copy of the operation.  \n",
    "- **Returns**: A new `Operation` object that is a copy of the current one.\n",
    "\n",
    "### `set_params(params)`\n",
    "**Description**: Sets the parameters for the operation.  \n",
    "- **params** (list of int): The parameters to be used in the operation."
   ]
  },
  {
   "cell_type": "markdown",
   "id": "f65ec41a",
   "metadata": {},
   "source": [
    "## Examples"
   ]
  },
  {
   "cell_type": "code",
   "execution_count": 18,
   "id": "dbf6ebc6",
   "metadata": {
    "ExecuteTime": {
     "end_time": "2024-09-23T06:16:41.651663Z",
     "start_time": "2024-09-23T06:16:41.646910Z"
    }
   },
   "outputs": [],
   "source": [
    "from strgraph import Operation\n",
    "\n",
    "# Define a custom operation function\n",
    "def custom_operation(input_strings, params):\n",
    "    # For this example, let's create an operation that repeats the first string\n",
    "    # a number of times specified in the operation's parameters\n",
    "    if len(input_strings) != 1:\n",
    "        raise RuntimeError(\"Custom operation requires exactly one input string.\")\n",
    "    if len(params) != 1:\n",
    "        raise ValueError(f\"We need one parameter, not {len(params)}.\")\n",
    "    return input_strings[0] * params[0]\n",
    "\n",
    "# Create an Operation object with the custom function\n",
    "custom_op = Operation(custom_operation, [5], \"CustomRepeat\")"
   ]
  },
  {
   "cell_type": "code",
   "execution_count": 19,
   "id": "9c933163",
   "metadata": {
    "ExecuteTime": {
     "end_time": "2024-09-23T06:16:42.668499Z",
     "start_time": "2024-09-23T06:16:42.663798Z"
    }
   },
   "outputs": [
    {
     "name": "stdout",
     "output_type": "stream",
     "text": [
      "Operation Info:\n",
      "Operation Info:\n",
      "  Name: CustomRepeat\n",
      "  Params: 5 \n"
     ]
    }
   ],
   "source": [
    "# Print operation info\n",
    "print(\"Operation Info:\")\n",
    "custom_op.print_info()"
   ]
  },
  {
   "cell_type": "code",
   "execution_count": 21,
   "id": "0addc6b4",
   "metadata": {
    "ExecuteTime": {
     "end_time": "2024-09-23T06:16:47.656955Z",
     "start_time": "2024-09-23T06:16:47.652952Z"
    }
   },
   "outputs": [
    {
     "name": "stdout",
     "output_type": "stream",
     "text": [
      "\n",
      "Compute result with input ['Hello']: HelloHelloHelloHelloHello\n"
     ]
    }
   ],
   "source": [
    "# Use compute method\n",
    "input_strings = [\"Hello\"]\n",
    "result = custom_op.compute(input_strings)\n",
    "print(f\"\\nCompute result with input {input_strings}: {result}\")"
   ]
  },
  {
   "cell_type": "markdown",
   "id": "fdc58f66",
   "metadata": {},
   "source": [
    "# NodeFactory Class"
   ]
  },
  {
   "cell_type": "markdown",
   "id": "cf47c3c4",
   "metadata": {},
   "source": [
    "The `NodeFactory` class provides static methods to simplify the creation of nodes. It offers convenient methods to create value nodes and operation nodes without directly dealing with the constructors.\n"
   ]
  },
  {
   "cell_type": "markdown",
   "id": "9e79ff92",
   "metadata": {},
   "source": [
    "## Important Methods"
   ]
  },
  {
   "cell_type": "markdown",
   "id": "e45ef9bc",
   "metadata": {},
   "source": [
    "### `create_value_node(value)`\n",
    "**Description**: Creates a value node with the specified string.  \n",
    "- **value** (str): The string value for the node.  \n",
    "- **Returns**: A new `Node` instance with the given value.\n",
    "\n",
    "### `create_operation_node(opName, inputNodes)`\n",
    "**Description**: Creates an operation node using a registered operation name.  \n",
    "- **opName** (str): The name of the operation.  \n",
    "- **inputNodes** (list of `Node`): The input nodes to be used for the operation.  \n",
    "- **Returns**: A new `Node` instance with the operation applied."
   ]
  },
  {
   "cell_type": "markdown",
   "id": "45d3e123",
   "metadata": {},
   "source": [
    "## Examples"
   ]
  },
  {
   "cell_type": "code",
   "execution_count": 22,
   "id": "53560c34",
   "metadata": {
    "ExecuteTime": {
     "end_time": "2024-09-23T06:17:55.336275Z",
     "start_time": "2024-09-23T06:17:55.327717Z"
    }
   },
   "outputs": [
    {
     "name": "stdout",
     "output_type": "stream",
     "text": [
      "\n",
      "====== Node Info ======\n",
      "Node 11: \"Hello, World!\"  Operation: Concat\n",
      "Operation Info:\n",
      "  Name: Concat\n",
      "  Params: \n",
      "  Input Nodes Values: \"Hello, \" \"World!\" \n"
     ]
    }
   ],
   "source": [
    "node1 = strgraph.NodeFactory.create_value_node(\"Hello, \")\n",
    "node2 = strgraph.NodeFactory.create_value_node(\"World!\")\n",
    "node3 = strgraph.NodeFactory.create_operation_node(\"Concat\", [node1, node2])\n",
    "node3.compute_string()\n",
    "node3.print_info()"
   ]
  },
  {
   "cell_type": "markdown",
   "id": "eb13d0a8",
   "metadata": {},
   "source": [
    "# OperationManager Class"
   ]
  },
  {
   "cell_type": "markdown",
   "id": "0e5a6561",
   "metadata": {},
   "source": [
    "The `OperationManager` class is a singleton that manages all registered operations. It allows you to retrieve existing operations, register new ones, remove operations, and list all available operations.\n"
   ]
  },
  {
   "cell_type": "markdown",
   "id": "55493fce",
   "metadata": {},
   "source": [
    "## Important Methods\n",
    "\n",
    "### `get_instance()`\n",
    "**Description**: Returns the singleton instance of the `OperationManager`.  \n",
    "- **Returns**: The single instance of `OperationManager`.\n",
    "\n",
    "### `get_operation(name)`\n",
    "**Description**: Retrieves an operation by name.  \n",
    "- **name** (str): The name of the operation.  \n",
    "- **Returns**: The `Operation` instance with the specified name.  \n",
    "- **Raises**: RuntimeError if the operation is not found.\n",
    "\n",
    "### `register_operation(name, op)`\n",
    "**Description**: Registers a new operation under the given name.  \n",
    "- **name** (str): The name to register the operation under.  \n",
    "- **op** (`Operation`): The operation to register.\n",
    "\n",
    "### `remove_operation(name)`\n",
    "**Description**: Removes the operation with the specified name.  \n",
    "- **name** (str): The name of the operation to remove.  \n",
    "- **Raises**: RuntimeError if the operation is not found.\n",
    "\n",
    "### `update_operation(name, op)`\n",
    "**Description**: Updates an existing operation with a new definition.  \n",
    "- **name** (str): The name of the operation to update.  \n",
    "- **op** (`Operation`): The new operation to replace the old one.\n",
    "\n",
    "### `list_operations()`\n",
    "**Description**: Lists all registered operation names.  \n",
    "- **Returns**: A list of strings representing the names of all registered operations."
   ]
  },
  {
   "cell_type": "markdown",
   "id": "fe262437",
   "metadata": {},
   "source": [
    "## Examples"
   ]
  },
  {
   "cell_type": "code",
   "execution_count": 24,
   "id": "02b30c78",
   "metadata": {
    "ExecuteTime": {
     "end_time": "2024-09-23T06:18:13.757818Z",
     "start_time": "2024-09-23T06:18:13.753321Z"
    }
   },
   "outputs": [
    {
     "name": "stdout",
     "output_type": "stream",
     "text": [
      "Available operations:\n",
      "['Delete', 'ReplaceAll', 'Replace', 'Insert', 'Repeat', 'Reverse', 'Concat', 'Slice', 'Trim']\n"
     ]
    }
   ],
   "source": [
    "from strgraph import manager, Operation\n",
    "\n",
    "# List existing operations\n",
    "print(\"Available operations:\")\n",
    "print(manager.list_operations())"
   ]
  },
  {
   "cell_type": "code",
   "execution_count": 25,
   "id": "66cd0f4d",
   "metadata": {
    "ExecuteTime": {
     "end_time": "2024-09-23T06:18:14.670534Z",
     "start_time": "2024-09-23T06:18:14.665449Z"
    }
   },
   "outputs": [
    {
     "name": "stdout",
     "output_type": "stream",
     "text": [
      "\n",
      "Retrieved operation:\n",
      "Operation Info:\n",
      "  Name: Concat\n",
      "  Params: \n"
     ]
    }
   ],
   "source": [
    "# Get an existing operation\n",
    "concat_op = manager.get_operation(\"Concat\")\n",
    "print(\"\\nRetrieved operation:\")\n",
    "concat_op.print_info()"
   ]
  },
  {
   "cell_type": "code",
   "execution_count": 26,
   "id": "9ff8de02",
   "metadata": {
    "ExecuteTime": {
     "end_time": "2024-09-23T06:18:15.666919Z",
     "start_time": "2024-09-23T06:18:15.658873Z"
    }
   },
   "outputs": [
    {
     "name": "stdout",
     "output_type": "stream",
     "text": [
      "\n",
      "Registered new operation 'UpperCase'.\n",
      "\n",
      "Available operations after registering 'UpperCase':\n",
      "['Delete', 'ReplaceAll', 'Replace', 'Insert', 'Repeat', 'Reverse', 'UpperCase', 'Concat', 'Slice', 'Trim']\n"
     ]
    }
   ],
   "source": [
    "# Define a new operation (e.g., UpperCase operation)\n",
    "def upper_case_operation(input_strings):\n",
    "    if len(input_strings) != 1:\n",
    "        raise RuntimeError(\"UpperCase operation requires exactly one input string.\")\n",
    "    return input_strings[0].upper()\n",
    "\n",
    "# Create an Operation object for the new operation\n",
    "uppercase_op = Operation(upper_case_operation, [], \"UpperCase\")\n",
    "\n",
    "# Register the new operation\n",
    "manager.register_operation(\"UpperCase\", uppercase_op)\n",
    "print(\"\\nRegistered new operation 'UpperCase'.\")\n",
    "\n",
    "# List operations after registering the new operation\n",
    "print(\"\\nAvailable operations after registering 'UpperCase':\")\n",
    "print(manager.list_operations())"
   ]
  },
  {
   "cell_type": "code",
   "execution_count": 27,
   "id": "3ed1ab32",
   "metadata": {
    "ExecuteTime": {
     "end_time": "2024-09-23T06:18:17.973371Z",
     "start_time": "2024-09-23T06:18:17.966327Z"
    }
   },
   "outputs": [
    {
     "name": "stdout",
     "output_type": "stream",
     "text": [
      "\n",
      "Updated 'Concat' operation to include a separator.\n",
      "\n",
      "Retrieved updated 'Concat' operation:\n",
      "Operation Info:\n",
      "  Name: Concat\n",
      "  Params: \n"
     ]
    }
   ],
   "source": [
    "# Update an existing operation (e.g., modify 'Concat' to add a separator)\n",
    "def concat_with_separator(input_strings):\n",
    "    if len(input_strings) < 2:\n",
    "        raise RuntimeError(\"Concat operation requires at least two input nodes.\")\n",
    "    separator = \" \"  # You can change the separator as needed\n",
    "    return separator.join(input_strings)\n",
    "\n",
    "# Create a new Operation object for the updated operation\n",
    "concat_with_separator_op = Operation(concat_with_separator, [], \"Concat\")\n",
    "\n",
    "# Update the 'Concat' operation\n",
    "manager.update_operation(\"Concat\", concat_with_separator_op)\n",
    "print(\"\\nUpdated 'Concat' operation to include a separator.\")\n",
    "\n",
    "# Retrieve and display the updated 'Concat' operation\n",
    "updated_concat_op = manager.get_operation(\"Concat\")\n",
    "print(\"\\nRetrieved updated 'Concat' operation:\")\n",
    "updated_concat_op.print_info()"
   ]
  },
  {
   "cell_type": "code",
   "execution_count": 28,
   "id": "b289495b",
   "metadata": {
    "ExecuteTime": {
     "end_time": "2024-09-23T06:18:19.788597Z",
     "start_time": "2024-09-23T06:18:19.778259Z"
    }
   },
   "outputs": [
    {
     "name": "stdout",
     "output_type": "stream",
     "text": [
      "\n",
      "Removed 'UpperCase' operation.\n",
      "\n",
      "Available operations after removing 'UpperCase':\n",
      "['Delete', 'ReplaceAll', 'Replace', 'Insert', 'Repeat', 'Reverse', 'Concat', 'Slice', 'Trim']\n"
     ]
    }
   ],
   "source": [
    "# Remove an operation (e.g., 'UpperCase')\n",
    "manager.remove_operation(\"UpperCase\")\n",
    "print(\"\\nRemoved 'UpperCase' operation.\")\n",
    "\n",
    "# List operations after removing the operation\n",
    "print(\"\\nAvailable operations after removing 'UpperCase':\")\n",
    "print(manager.list_operations())"
   ]
  },
  {
   "cell_type": "markdown",
   "id": "ade8f68b",
   "metadata": {},
   "source": [
    "# Operation List"
   ]
  },
  {
   "cell_type": "markdown",
   "id": "d5713a85",
   "metadata": {
    "ExecuteTime": {
     "end_time": "2024-09-22T03:23:43.963023Z",
     "start_time": "2024-09-22T03:23:43.956122Z"
    }
   },
   "source": [
    "Below are detailed descriptions of each operation available in the `OperationList`. Each operation can be used to manipulate strings within the computation graph."
   ]
  },
  {
   "cell_type": "markdown",
   "id": "ea970ff1",
   "metadata": {},
   "source": [
    "## Concat Operation\n",
    "**Description**: Concatenates two input strings into one.  \n",
    "- **Parameters**: Two strings to be concatenated.\n",
    "- **Input**: A list containing two strings.\n",
    "\n",
    "**Usage**:  \n",
    "`Concat([node1, node2])`"
   ]
  },
  {
   "cell_type": "code",
   "execution_count": 23,
   "id": "48a6758b",
   "metadata": {
    "ExecuteTime": {
     "end_time": "2024-09-23T06:18:05.855338Z",
     "start_time": "2024-09-23T06:18:05.848788Z"
    }
   },
   "outputs": [
    {
     "name": "stdout",
     "output_type": "stream",
     "text": [
      "Hello, World.\n"
     ]
    }
   ],
   "source": [
    "import strgraph\n",
    "\n",
    "# Create value nodes\n",
    "node1 = strgraph.NodeFactory.create_value_node(\"Hello, \")\n",
    "node2 = strgraph.NodeFactory.create_value_node(\"World.\")\n",
    "\n",
    "# Perform Concat operation\n",
    "concat_node = strgraph.Concat([node1, node2])\n",
    "\n",
    "# Compute the result\n",
    "result = concat_node.compute_string()\n",
    "print(result)  # Output: \"HelloWorld\""
   ]
  },
  {
   "cell_type": "markdown",
   "id": "5e1d7d2c",
   "metadata": {
    "ExecuteTime": {
     "end_time": "2024-09-22T03:29:07.833928Z",
     "start_time": "2024-09-22T03:29:07.826597Z"
    }
   },
   "source": [
    "## Slice Operation\n"
   ]
  },
  {
   "cell_type": "code",
   "execution_count": 5,
   "id": "152d0d17",
   "metadata": {
    "ExecuteTime": {
     "end_time": "2024-09-23T06:10:06.194855Z",
     "start_time": "2024-09-23T06:10:06.190013Z"
    }
   },
   "outputs": [
    {
     "name": "stdout",
     "output_type": "stream",
     "text": [
      "Hello\n"
     ]
    }
   ],
   "source": [
    "import strgraph\n",
    "node = strgraph.NodeFactory.create_value_node(\"HelloWorld\")\n",
    "\n",
    "# Perform Slice operation with parameters (start, end)\n",
    "slice_node = strgraph.Slice([node], [0, 5])  # Extract \"Hello\"\n",
    "\n",
    "# Optionally, print or compute the result\n",
    "result = slice_node.compute_string()\n",
    "print(result)  # Output should be \"Hello\"\n"
   ]
  },
  {
   "cell_type": "markdown",
   "id": "21c03b29",
   "metadata": {},
   "source": [
    "## Reverse Operation"
   ]
  },
  {
   "cell_type": "code",
   "execution_count": 6,
   "id": "3ddcec44",
   "metadata": {
    "ExecuteTime": {
     "end_time": "2024-09-23T06:10:13.330953Z",
     "start_time": "2024-09-23T06:10:13.323434Z"
    }
   },
   "outputs": [
    {
     "name": "stdout",
     "output_type": "stream",
     "text": [
      "olleH\n"
     ]
    }
   ],
   "source": [
    "import strgraph\n",
    "\n",
    "# Create a value node\n",
    "node = strgraph.NodeFactory.create_value_node(\"Hello\")\n",
    "\n",
    "# Perform Reverse operation\n",
    "reverse_node = strgraph.Reverse([node])\n",
    "\n",
    "# Compute the result\n",
    "result = reverse_node.compute_string()\n",
    "print(result)  # Output: \"olleH\""
   ]
  },
  {
   "cell_type": "markdown",
   "id": "1dc28756",
   "metadata": {},
   "source": [
    "## Repeat Operation"
   ]
  },
  {
   "cell_type": "code",
   "execution_count": 7,
   "id": "81c149a1",
   "metadata": {
    "ExecuteTime": {
     "end_time": "2024-09-23T06:10:23.834999Z",
     "start_time": "2024-09-23T06:10:23.828937Z"
    }
   },
   "outputs": [
    {
     "name": "stdout",
     "output_type": "stream",
     "text": [
      "HelloHelloHello\n"
     ]
    }
   ],
   "source": [
    "import strgraph\n",
    "\n",
    "# Get the operation\n",
    "repeat_op = strgraph.manager.get_operation(\"Repeat\")\n",
    "\n",
    "# Create a value node\n",
    "node = strgraph.NodeFactory.create_value_node(\"Hello\")\n",
    "\n",
    "# Create a Repeat operation node\n",
    "repeat_node = strgraph.Node(\"\", repeat_op, [node])\n",
    "\n",
    "# Update operation parameters (number of repetitions)\n",
    "repeat_node.update_operation_params([3])  # Repeats 3 times\n",
    "\n",
    "# Compute the result\n",
    "result = repeat_node.compute_string()\n",
    "print(result)  # Output: \"HelloHelloHello\"\n"
   ]
  },
  {
   "cell_type": "markdown",
   "id": "18f98f20",
   "metadata": {},
   "source": [
    "## Trim Operation"
   ]
  },
  {
   "cell_type": "code",
   "execution_count": 8,
   "id": "e658fdd2",
   "metadata": {
    "ExecuteTime": {
     "end_time": "2024-09-23T06:10:30.729729Z",
     "start_time": "2024-09-23T06:10:30.725673Z"
    }
   },
   "outputs": [
    {
     "name": "stdout",
     "output_type": "stream",
     "text": [
      "Hello World\n"
     ]
    }
   ],
   "source": [
    "import strgraph\n",
    "\n",
    "# Create a value node\n",
    "node = strgraph.NodeFactory.create_value_node(\"   Hello World   \")\n",
    "\n",
    "# Perform Trim operation\n",
    "trim_node = strgraph.Trim([node])\n",
    "\n",
    "# Compute the result\n",
    "result = trim_node.compute_string()\n",
    "print(result)  # Output: \"Hello World\"\n"
   ]
  },
  {
   "cell_type": "markdown",
   "id": "8d7fb1e8",
   "metadata": {},
   "source": [
    "## Insert Operation"
   ]
  },
  {
   "cell_type": "code",
   "execution_count": 9,
   "id": "04e6f0b8",
   "metadata": {
    "ExecuteTime": {
     "end_time": "2024-09-23T06:10:42.667529Z",
     "start_time": "2024-09-23T06:10:42.661672Z"
    }
   },
   "outputs": [
    {
     "name": "stdout",
     "output_type": "stream",
     "text": [
      "Hello World\n"
     ]
    }
   ],
   "source": [
    "import strgraph\n",
    "\n",
    "# Get the operation\n",
    "insert_op = strgraph.manager.get_operation(\"Insert\")\n",
    "\n",
    "# Create value nodes\n",
    "original_node = strgraph.NodeFactory.create_value_node(\"HelloWorld\")\n",
    "substring_node = strgraph.NodeFactory.create_value_node(\" \")\n",
    "\n",
    "# Create an Insert operation node\n",
    "insert_node = strgraph.Node(\"\", insert_op, [original_node, substring_node])\n",
    "\n",
    "# Update operation parameters (insertion position)\n",
    "insert_node.update_operation_params([5])  # Inserts at position 5\n",
    "\n",
    "# Compute the result\n",
    "result = insert_node.compute_string()\n",
    "print(result)  # Output: \"Hello World\"\n"
   ]
  },
  {
   "cell_type": "markdown",
   "id": "d6295010",
   "metadata": {},
   "source": [
    "## Replace Operation"
   ]
  },
  {
   "cell_type": "code",
   "execution_count": 10,
   "id": "1c7eecfa",
   "metadata": {
    "ExecuteTime": {
     "end_time": "2024-09-23T06:10:45.655533Z",
     "start_time": "2024-09-23T06:10:45.650412Z"
    }
   },
   "outputs": [
    {
     "name": "stdout",
     "output_type": "stream",
     "text": [
      "Hello Python\n"
     ]
    }
   ],
   "source": [
    "import strgraph\n",
    "\n",
    "# Get the operation\n",
    "replace_op = strgraph.manager.get_operation(\"Replace\")\n",
    "\n",
    "# Create value nodes\n",
    "original_node = strgraph.NodeFactory.create_value_node(\"Hello World\")\n",
    "target_node = strgraph.NodeFactory.create_value_node(\"World\")\n",
    "replacement_node = strgraph.NodeFactory.create_value_node(\"Python\")\n",
    "\n",
    "# Create a Replace operation node\n",
    "replace_node = strgraph.Node(\"\", replace_op, [original_node, target_node, replacement_node])\n",
    "\n",
    "# Compute the result\n",
    "result = replace_node.compute_string()\n",
    "print(result)  # Output: \"Hello Python\"\n"
   ]
  },
  {
   "cell_type": "markdown",
   "id": "6b45656e",
   "metadata": {},
   "source": [
    "## ReplaceAll Operation"
   ]
  },
  {
   "cell_type": "code",
   "execution_count": 11,
   "id": "b068b4d3",
   "metadata": {
    "ExecuteTime": {
     "end_time": "2024-09-23T06:10:47.998727Z",
     "start_time": "2024-09-23T06:10:47.992836Z"
    }
   },
   "outputs": [
    {
     "name": "stdout",
     "output_type": "stream",
     "text": [
      "Can you can a can as a canner can can a can?\n"
     ]
    }
   ],
   "source": [
    "import strgraph\n",
    "\n",
    "# Get the operation\n",
    "replace_all_op = strgraph.manager.get_operation(\"ReplaceAll\")\n",
    "\n",
    "# Create value nodes\n",
    "original_node = strgraph.NodeFactory.create_value_node(\"Can you x a x as a xner x x a x?\")\n",
    "target_node = strgraph.NodeFactory.create_value_node(\"x\")\n",
    "replacement_node = strgraph.NodeFactory.create_value_node(\"can\")\n",
    "\n",
    "# Create a ReplaceAll operation node\n",
    "replace_all_node = strgraph.Node(\"\", replace_all_op, [original_node, target_node, replacement_node])\n",
    "\n",
    "# Compute the result\n",
    "result = replace_all_node.compute_string()\n",
    "print(result)  # Output: \"bonono\"\n"
   ]
  },
  {
   "cell_type": "code",
   "execution_count": null,
   "id": "9998f578",
   "metadata": {},
   "outputs": [],
   "source": []
  }
 ],
 "metadata": {
  "kernelspec": {
   "display_name": "Python 3 (ipykernel)",
   "language": "python",
   "name": "python3"
  },
  "language_info": {
   "codemirror_mode": {
    "name": "ipython",
    "version": 3
   },
   "file_extension": ".py",
   "mimetype": "text/x-python",
   "name": "python",
   "nbconvert_exporter": "python",
   "pygments_lexer": "ipython3",
   "version": "3.10.11"
  },
  "toc": {
   "base_numbering": 1,
   "nav_menu": {},
   "number_sections": true,
   "sideBar": true,
   "skip_h1_title": false,
   "title_cell": "Table of Contents",
   "title_sidebar": "Contents",
   "toc_cell": false,
   "toc_position": {},
   "toc_section_display": true,
   "toc_window_display": false
  },
  "varInspector": {
   "cols": {
    "lenName": 16,
    "lenType": 16,
    "lenVar": 40
   },
   "kernels_config": {
    "python": {
     "delete_cmd_postfix": "",
     "delete_cmd_prefix": "del ",
     "library": "var_list.py",
     "varRefreshCmd": "print(var_dic_list())"
    },
    "r": {
     "delete_cmd_postfix": ") ",
     "delete_cmd_prefix": "rm(",
     "library": "var_list.r",
     "varRefreshCmd": "cat(var_dic_list()) "
    }
   },
   "types_to_exclude": [
    "module",
    "function",
    "builtin_function_or_method",
    "instance",
    "_Feature"
   ],
   "window_display": false
  }
 },
 "nbformat": 4,
 "nbformat_minor": 5
}
