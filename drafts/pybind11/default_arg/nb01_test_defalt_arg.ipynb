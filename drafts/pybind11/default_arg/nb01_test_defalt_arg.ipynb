{
 "cells": [
  {
   "cell_type": "code",
   "execution_count": 4,
   "id": "28b4e596",
   "metadata": {
    "ExecuteTime": {
     "end_time": "2024-09-20T07:02:14.088768Z",
     "start_time": "2024-09-20T07:02:14.061107Z"
    }
   },
   "outputs": [
    {
     "ename": "ModuleNotFoundError",
     "evalue": "No module named 'my_module'",
     "output_type": "error",
     "traceback": [
      "\u001b[0;31m---------------------------------------------------------------------------\u001b[0m",
      "\u001b[0;31mModuleNotFoundError\u001b[0m                       Traceback (most recent call last)",
      "Cell \u001b[0;32mIn[4], line 6\u001b[0m\n\u001b[1;32m      2\u001b[0m \u001b[38;5;28;01mimport\u001b[39;00m \u001b[38;5;21;01mos\u001b[39;00m\n\u001b[1;32m      4\u001b[0m sys\u001b[38;5;241m.\u001b[39mpath\u001b[38;5;241m.\u001b[39mappend(os\u001b[38;5;241m.\u001b[39mgetcwd())\n\u001b[0;32m----> 6\u001b[0m \u001b[38;5;28;01mimport\u001b[39;00m \u001b[38;5;21;01mmy_module\u001b[39;00m\n\u001b[1;32m      8\u001b[0m \u001b[38;5;66;03m# 实例化类，使用默认参数\u001b[39;00m\n\u001b[1;32m      9\u001b[0m obj1 \u001b[38;5;241m=\u001b[39m my_module\u001b[38;5;241m.\u001b[39mMyClass(\u001b[38;5;241m10\u001b[39m)\n",
      "\u001b[0;31mModuleNotFoundError\u001b[0m: No module named 'my_module'"
     ]
    }
   ],
   "source": [
    "import sys\n",
    "import os\n",
    "\n",
    "sys.path.append(os.getcwd())\n",
    "\n",
    "import my_module\n",
    "\n",
    "# 实例化类，使用默认参数\n",
    "obj1 = my_module.MyClass(10)\n",
    "print(obj1.get_x())  # 输出: 10\n",
    "print(obj1.get_y())  # 输出: 42\n",
    "\n",
    "# 实例化类，覆盖默认参数\n",
    "obj2 = my_module.MyClass(10, 20)\n",
    "print(obj2.get_x())  # 输出: 10\n",
    "print(obj2.get_y())  # 输出: 20\n"
   ]
  },
  {
   "cell_type": "code",
   "execution_count": 5,
   "id": "67314c8e",
   "metadata": {
    "ExecuteTime": {
     "end_time": "2024-09-20T07:02:46.329050Z",
     "start_time": "2024-09-20T07:02:46.323856Z"
    }
   },
   "outputs": [
    {
     "name": "stdout",
     "output_type": "stream",
     "text": [
      "/Users/xiaoyao/Documents/CS/0_项目管理/06/StrGraph/drafts/pybind11/default_arg\n"
     ]
    }
   ],
   "source": [
    "import os\n",
    "print(os.getcwd())\n"
   ]
  },
  {
   "cell_type": "code",
   "execution_count": 6,
   "id": "f9807267",
   "metadata": {
    "ExecuteTime": {
     "end_time": "2024-09-20T07:03:28.982658Z",
     "start_time": "2024-09-20T07:03:26.408907Z"
    }
   },
   "outputs": [
    {
     "ename": "ImportError",
     "evalue": "Python version mismatch: module was compiled for Python 3.12, but the interpreter version is incompatible: 3.10.11 (v3.10.11:7d4cc5aa85, Apr  4 2023, 19:05:19) [Clang 13.0.0 (clang-1300.0.29.30)].",
     "output_type": "error",
     "traceback": [
      "\u001b[0;31m---------------------------------------------------------------------------\u001b[0m",
      "\u001b[0;31mImportError\u001b[0m                               Traceback (most recent call last)",
      "Cell \u001b[0;32mIn[6], line 9\u001b[0m\n\u001b[1;32m      7\u001b[0m \u001b[38;5;66;03m# 使用importlib动态加载模块\u001b[39;00m\n\u001b[1;32m      8\u001b[0m spec \u001b[38;5;241m=\u001b[39m importlib\u001b[38;5;241m.\u001b[39mutil\u001b[38;5;241m.\u001b[39mspec_from_file_location(\u001b[38;5;124m\"\u001b[39m\u001b[38;5;124mmy_module\u001b[39m\u001b[38;5;124m\"\u001b[39m, module_path)\n\u001b[0;32m----> 9\u001b[0m my_module \u001b[38;5;241m=\u001b[39m \u001b[43mimportlib\u001b[49m\u001b[38;5;241;43m.\u001b[39;49m\u001b[43mutil\u001b[49m\u001b[38;5;241;43m.\u001b[39;49m\u001b[43mmodule_from_spec\u001b[49m\u001b[43m(\u001b[49m\u001b[43mspec\u001b[49m\u001b[43m)\u001b[49m\n\u001b[1;32m     10\u001b[0m spec\u001b[38;5;241m.\u001b[39mloader\u001b[38;5;241m.\u001b[39mexec_module(my_module)\n\u001b[1;32m     12\u001b[0m \u001b[38;5;66;03m# 实例化类，使用默认参数\u001b[39;00m\n",
      "File \u001b[0;32m<frozen importlib._bootstrap>:571\u001b[0m, in \u001b[0;36mmodule_from_spec\u001b[0;34m(spec)\u001b[0m\n",
      "File \u001b[0;32m<frozen importlib._bootstrap_external>:1176\u001b[0m, in \u001b[0;36mcreate_module\u001b[0;34m(self, spec)\u001b[0m\n",
      "File \u001b[0;32m<frozen importlib._bootstrap>:241\u001b[0m, in \u001b[0;36m_call_with_frames_removed\u001b[0;34m(f, *args, **kwds)\u001b[0m\n",
      "\u001b[0;31mImportError\u001b[0m: Python version mismatch: module was compiled for Python 3.12, but the interpreter version is incompatible: 3.10.11 (v3.10.11:7d4cc5aa85, Apr  4 2023, 19:05:19) [Clang 13.0.0 (clang-1300.0.29.30)]."
     ]
    }
   ],
   "source": [
    "import importlib.util\n",
    "import os\n",
    "\n",
    "# 获取.so文件的完整路径\n",
    "module_path = os.path.join(os.getcwd(), 'my_module.cpython-312-darwin.so')\n",
    "\n",
    "# 使用importlib动态加载模块\n",
    "spec = importlib.util.spec_from_file_location(\"my_module\", module_path)\n",
    "my_module = importlib.util.module_from_spec(spec)\n",
    "spec.loader.exec_module(my_module)\n",
    "\n",
    "# 实例化类，使用默认参数\n",
    "obj1 = my_module.MyClass(10)\n",
    "print(obj1.get_x())  # 输出: 10\n",
    "print(obj1.get_y())  # 输出: 42\n",
    "\n",
    "# 实例化类，覆盖默认参数\n",
    "obj2 = my_module.MyClass(10, 20)\n",
    "print(obj2.get_x())  # 输出: 10\n",
    "print(obj2.get_y())  # 输出: 20\n"
   ]
  },
  {
   "cell_type": "code",
   "execution_count": 7,
   "id": "c0e20519",
   "metadata": {
    "ExecuteTime": {
     "end_time": "2024-09-20T07:03:48.452472Z",
     "start_time": "2024-09-20T07:03:48.428456Z"
    }
   },
   "outputs": [
    {
     "ename": "ModuleNotFoundError",
     "evalue": "No module named 'my_module'",
     "output_type": "error",
     "traceback": [
      "\u001b[0;31m---------------------------------------------------------------------------\u001b[0m",
      "\u001b[0;31mModuleNotFoundError\u001b[0m                       Traceback (most recent call last)",
      "Cell \u001b[0;32mIn[7], line 8\u001b[0m\n\u001b[1;32m      5\u001b[0m sys\u001b[38;5;241m.\u001b[39mpath\u001b[38;5;241m.\u001b[39mappend(os\u001b[38;5;241m.\u001b[39mgetcwd())\n\u001b[1;32m      7\u001b[0m \u001b[38;5;66;03m# 尝试导入模块\u001b[39;00m\n\u001b[0;32m----> 8\u001b[0m \u001b[38;5;28;01mimport\u001b[39;00m \u001b[38;5;21;01mmy_module\u001b[39;00m\n\u001b[1;32m     10\u001b[0m \u001b[38;5;66;03m# 实例化类，使用默认参数\u001b[39;00m\n\u001b[1;32m     11\u001b[0m obj1 \u001b[38;5;241m=\u001b[39m my_module\u001b[38;5;241m.\u001b[39mMyClass(\u001b[38;5;241m10\u001b[39m)\n",
      "\u001b[0;31mModuleNotFoundError\u001b[0m: No module named 'my_module'"
     ]
    }
   ],
   "source": [
    "import sys\n",
    "import os\n",
    "\n",
    "# 将当前目录添加到sys.path\n",
    "sys.path.append(os.getcwd())\n",
    "\n",
    "# 尝试导入模块\n",
    "import my_module\n",
    "\n",
    "# 实例化类，使用默认参数\n",
    "obj1 = my_module.MyClass(10)\n",
    "print(obj1.get_x())  # 输出: 10\n",
    "print(obj1.get_y())  # 输出: 42\n",
    "\n",
    "# 实例化类，覆盖默认参数\n",
    "obj2 = my_module.MyClass(10, 20)\n",
    "print(obj2.get_x())  # 输出: 10\n",
    "print(obj2.get_y())  # 输出: 20\n"
   ]
  },
  {
   "cell_type": "code",
   "execution_count": 8,
   "id": "c3572ee5",
   "metadata": {
    "ExecuteTime": {
     "end_time": "2024-09-20T07:04:30.284352Z",
     "start_time": "2024-09-20T07:04:30.065204Z"
    }
   },
   "outputs": [
    {
     "name": "stdout",
     "output_type": "stream",
     "text": [
      "Python 3.10.14\r\n"
     ]
    }
   ],
   "source": [
    "!python3 --version"
   ]
  },
  {
   "cell_type": "code",
   "execution_count": 9,
   "id": "c8cbe723",
   "metadata": {
    "ExecuteTime": {
     "end_time": "2024-09-20T07:04:54.067218Z",
     "start_time": "2024-09-20T07:04:54.060551Z"
    }
   },
   "outputs": [
    {
     "name": "stdout",
     "output_type": "stream",
     "text": [
      "3.10.11 (v3.10.11:7d4cc5aa85, Apr  4 2023, 19:05:19) [Clang 13.0.0 (clang-1300.0.29.30)]\n"
     ]
    }
   ],
   "source": [
    "import sys\n",
    "print(sys.version)"
   ]
  },
  {
   "cell_type": "code",
   "execution_count": null,
   "id": "7aad0dfe",
   "metadata": {},
   "outputs": [],
   "source": []
  }
 ],
 "metadata": {
  "kernelspec": {
   "display_name": "Python 3 (ipykernel)",
   "language": "python",
   "name": "python3"
  },
  "language_info": {
   "codemirror_mode": {
    "name": "ipython",
    "version": 3
   },
   "file_extension": ".py",
   "mimetype": "text/x-python",
   "name": "python",
   "nbconvert_exporter": "python",
   "pygments_lexer": "ipython3",
   "version": "3.10.11"
  },
  "toc": {
   "base_numbering": 1,
   "nav_menu": {},
   "number_sections": true,
   "sideBar": true,
   "skip_h1_title": false,
   "title_cell": "Table of Contents",
   "title_sidebar": "Contents",
   "toc_cell": false,
   "toc_position": {},
   "toc_section_display": true,
   "toc_window_display": false
  },
  "varInspector": {
   "cols": {
    "lenName": 16,
    "lenType": 16,
    "lenVar": 40
   },
   "kernels_config": {
    "python": {
     "delete_cmd_postfix": "",
     "delete_cmd_prefix": "del ",
     "library": "var_list.py",
     "varRefreshCmd": "print(var_dic_list())"
    },
    "r": {
     "delete_cmd_postfix": ") ",
     "delete_cmd_prefix": "rm(",
     "library": "var_list.r",
     "varRefreshCmd": "cat(var_dic_list()) "
    }
   },
   "types_to_exclude": [
    "module",
    "function",
    "builtin_function_or_method",
    "instance",
    "_Feature"
   ],
   "window_display": false
  }
 },
 "nbformat": 4,
 "nbformat_minor": 5
}
