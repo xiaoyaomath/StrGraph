{
 "cells": [
  {
   "cell_type": "code",
   "execution_count": 16,
   "id": "a60d380b",
   "metadata": {
    "ExecuteTime": {
     "end_time": "2024-09-20T06:42:29.287297Z",
     "start_time": "2024-09-20T06:42:29.267355Z"
    }
   },
   "outputs": [
    {
     "ename": "TypeError",
     "evalue": "__init__(): incompatible constructor arguments. The following argument types are supported:\n    1. strgraph.Node(arg0: str, arg1: strgraph.Operation, arg2: list[strgraph.Node])\n\nInvoked with: 'Hello'",
     "output_type": "error",
     "traceback": [
      "\u001b[0;31m---------------------------------------------------------------------------\u001b[0m",
      "\u001b[0;31mTypeError\u001b[0m                                 Traceback (most recent call last)",
      "Cell \u001b[0;32mIn[16], line 8\u001b[0m\n\u001b[1;32m      4\u001b[0m \u001b[38;5;28;01mimport\u001b[39;00m \u001b[38;5;21;01mstrgraph\u001b[39;00m  \u001b[38;5;66;03m# 导入生成的模块\u001b[39;00m\n\u001b[1;32m      6\u001b[0m concat_op \u001b[38;5;241m=\u001b[39m manager\u001b[38;5;241m.\u001b[39mget_operation(\u001b[38;5;124m\"\u001b[39m\u001b[38;5;124mconcat\u001b[39m\u001b[38;5;124m\"\u001b[39m)\n\u001b[0;32m----> 8\u001b[0m node1 \u001b[38;5;241m=\u001b[39m \u001b[43mstrgraph\u001b[49m\u001b[38;5;241;43m.\u001b[39;49m\u001b[43mNode\u001b[49m\u001b[43m(\u001b[49m\u001b[38;5;124;43m\"\u001b[39;49m\u001b[38;5;124;43mHello\u001b[39;49m\u001b[38;5;124;43m\"\u001b[39;49m\u001b[43m)\u001b[49m\n\u001b[1;32m      9\u001b[0m node2 \u001b[38;5;241m=\u001b[39m strgraph\u001b[38;5;241m.\u001b[39mNode(\u001b[38;5;124m\"\u001b[39m\u001b[38;5;124m World\u001b[39m\u001b[38;5;124m\"\u001b[39m, \u001b[38;5;28;01mNone\u001b[39;00m, [])\n\u001b[1;32m     11\u001b[0m \u001b[38;5;66;03m# 创建操作节点，传递操作和输入节点列表\u001b[39;00m\n",
      "\u001b[0;31mTypeError\u001b[0m: __init__(): incompatible constructor arguments. The following argument types are supported:\n    1. strgraph.Node(arg0: str, arg1: strgraph.Operation, arg2: list[strgraph.Node])\n\nInvoked with: 'Hello'"
     ]
    }
   ],
   "source": [
    "import sys\n",
    "sys.path.append('/Users/xiaoyao/Documents/CS/0_项目管理/06/StrGraph/build')  # 添加 build 目录到路径中\n",
    "\n",
    "import strgraph  # 导入生成的模块\n",
    "\n",
    "concat_op = manager.get_operation(\"concat\")\n",
    "\n",
    "node1 = strgraph.Node(\"Hello\")\n",
    "node2 = strgraph.Node(\" World\", None, [])\n",
    "\n",
    "# 创建操作节点，传递操作和输入节点列表\n",
    "concat_node = strgraph.Node(\"\", concat_op, [node1, node2])\n",
    "\n",
    "# 计算结果\n",
    "result = concat_node.compute_string()\n",
    "print(result)  # 输出 \"Hello World\"\n",
    "\n",
    "# 打印节点信息\n",
    "concat_node.print_info()"
   ]
  },
  {
   "cell_type": "code",
   "execution_count": 15,
   "id": "fb59639b",
   "metadata": {
    "ExecuteTime": {
     "end_time": "2024-09-20T06:35:11.032542Z",
     "start_time": "2024-09-20T06:35:11.009070Z"
    }
   },
   "outputs": [
    {
     "ename": "TypeError",
     "evalue": "__init__(): incompatible constructor arguments. The following argument types are supported:\n    1. strgraph.Node(arg0: str, arg1: strgraph.Operation, arg2: list[strgraph.Node])\n\nInvoked with: 'Hello'",
     "output_type": "error",
     "traceback": [
      "\u001b[0;31m---------------------------------------------------------------------------\u001b[0m",
      "\u001b[0;31mTypeError\u001b[0m                                 Traceback (most recent call last)",
      "Cell \u001b[0;32mIn[15], line 4\u001b[0m\n\u001b[1;32m      1\u001b[0m \u001b[38;5;28;01mimport\u001b[39;00m \u001b[38;5;21;01mstrgraph\u001b[39;00m\n\u001b[1;32m      3\u001b[0m \u001b[38;5;66;03m# 测试只传递字符串的构造函数\u001b[39;00m\n\u001b[0;32m----> 4\u001b[0m node1 \u001b[38;5;241m=\u001b[39m \u001b[43mstrgraph\u001b[49m\u001b[38;5;241;43m.\u001b[39;49m\u001b[43mNode\u001b[49m\u001b[43m(\u001b[49m\u001b[38;5;124;43m\"\u001b[39;49m\u001b[38;5;124;43mHello\u001b[39;49m\u001b[38;5;124;43m\"\u001b[39;49m\u001b[43m)\u001b[49m\n\u001b[1;32m      5\u001b[0m node2 \u001b[38;5;241m=\u001b[39m strgraph\u001b[38;5;241m.\u001b[39mNode(\u001b[38;5;124m\"\u001b[39m\u001b[38;5;124m World\u001b[39m\u001b[38;5;124m\"\u001b[39m)\n\u001b[1;32m      7\u001b[0m \u001b[38;5;66;03m# 获取 concat 操作\u001b[39;00m\n",
      "\u001b[0;31mTypeError\u001b[0m: __init__(): incompatible constructor arguments. The following argument types are supported:\n    1. strgraph.Node(arg0: str, arg1: strgraph.Operation, arg2: list[strgraph.Node])\n\nInvoked with: 'Hello'"
     ]
    }
   ],
   "source": [
    "import strgraph\n",
    "\n",
    "# 测试只传递字符串的构造函数\n",
    "node1 = strgraph.Node(\"Hello\")\n",
    "node2 = strgraph.Node(\" World\")\n",
    "\n",
    "# 获取 concat 操作\n",
    "manager = strgraph.OperationManager.get_instance()\n",
    "concat_op = manager.get_operation(\"concat\")\n",
    "\n",
    "# 使用完整构造函数创建操作节点\n",
    "concat_node = strgraph.Node(\"\", concat_op, [node1, node2])\n",
    "\n",
    "# 计算结果\n",
    "result = concat_node.compute_string()\n",
    "print(result)  # 输出 \"Hello World\"\n",
    "\n",
    "# 打印节点信息\n",
    "concat_node.print_info()\n"
   ]
  },
  {
   "cell_type": "code",
   "execution_count": null,
   "id": "994a4b93",
   "metadata": {},
   "outputs": [],
   "source": []
  }
 ],
 "metadata": {
  "kernelspec": {
   "display_name": "Python 3 (ipykernel)",
   "language": "python",
   "name": "python3"
  },
  "language_info": {
   "codemirror_mode": {
    "name": "ipython",
    "version": 3
   },
   "file_extension": ".py",
   "mimetype": "text/x-python",
   "name": "python",
   "nbconvert_exporter": "python",
   "pygments_lexer": "ipython3",
   "version": "3.10.11"
  },
  "toc": {
   "base_numbering": 1,
   "nav_menu": {},
   "number_sections": true,
   "sideBar": true,
   "skip_h1_title": false,
   "title_cell": "Table of Contents",
   "title_sidebar": "Contents",
   "toc_cell": false,
   "toc_position": {},
   "toc_section_display": true,
   "toc_window_display": false
  },
  "varInspector": {
   "cols": {
    "lenName": 16,
    "lenType": 16,
    "lenVar": 40
   },
   "kernels_config": {
    "python": {
     "delete_cmd_postfix": "",
     "delete_cmd_prefix": "del ",
     "library": "var_list.py",
     "varRefreshCmd": "print(var_dic_list())"
    },
    "r": {
     "delete_cmd_postfix": ") ",
     "delete_cmd_prefix": "rm(",
     "library": "var_list.r",
     "varRefreshCmd": "cat(var_dic_list()) "
    }
   },
   "types_to_exclude": [
    "module",
    "function",
    "builtin_function_or_method",
    "instance",
    "_Feature"
   ],
   "window_display": false
  }
 },
 "nbformat": 4,
 "nbformat_minor": 5
}
