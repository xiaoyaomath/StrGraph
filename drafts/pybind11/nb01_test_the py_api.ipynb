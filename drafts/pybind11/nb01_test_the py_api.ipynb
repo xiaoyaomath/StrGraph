{
 "cells": [
  {
   "cell_type": "code",
   "execution_count": 4,
   "id": "8e607a2f",
   "metadata": {
    "ExecuteTime": {
     "end_time": "2024-09-20T06:05:47.120458Z",
     "start_time": "2024-09-20T06:05:47.111002Z"
    }
   },
   "outputs": [
    {
     "name": "stdout",
     "output_type": "stream",
     "text": [
      "Hello World\n",
      "Available operations:\n",
      "  - concat\n",
      "Node Info:\n",
      "  Value: Hello World\n",
      "  Operation: concat\n",
      "Operation Info:\n",
      "  Name: concat\n",
      "  Params: \n",
      "  Input Nodes Values: Hello  World \n"
     ]
    }
   ],
   "source": [
    "import sys\n",
    "sys.path.append('/Users/xiaoyao/Documents/CS/0_项目管理/06/StrGraph/build')  # 添加 build 目录到路径中\n",
    "\n",
    "import strgraph  # 导入生成的模块\n",
    "\n",
    "# 注册操作\n",
    "# strgraph.register_operations()\n",
    "\n",
    "# 创建一个操作管理器实例\n",
    "manager = strgraph.OperationManager.get_instance()\n",
    "\n",
    "# 列出可用操作\n",
    "manager.list_operations()\n",
    "\n",
    "# 获取 \"concat\" 操作\n",
    "concat_op = manager.get_operation(\"concat\")\n",
    "\n",
    "node1 = strgraph.Node(\"Hello\", None, [])\n",
    "node2 = strgraph.Node(\" World\", None, [])\n",
    "\n",
    "# 创建操作节点，传递操作和输入节点列表\n",
    "concat_node = strgraph.Node(\"\", concat_op, [node1, node2])\n",
    "\n",
    "# 计算结果\n",
    "result = concat_node.compute_string()\n",
    "print(result)  # 输出 \"Hello World\"\n",
    "\n",
    "# 打印节点信息\n",
    "concat_node.print_info()"
   ]
  },
  {
   "cell_type": "code",
   "execution_count": null,
   "id": "89780c6e",
   "metadata": {},
   "outputs": [],
   "source": []
  }
 ],
 "metadata": {
  "kernelspec": {
   "display_name": "Python 3 (ipykernel)",
   "language": "python",
   "name": "python3"
  },
  "language_info": {
   "codemirror_mode": {
    "name": "ipython",
    "version": 3
   },
   "file_extension": ".py",
   "mimetype": "text/x-python",
   "name": "python",
   "nbconvert_exporter": "python",
   "pygments_lexer": "ipython3",
   "version": "3.10.11"
  },
  "toc": {
   "base_numbering": 1,
   "nav_menu": {},
   "number_sections": true,
   "sideBar": true,
   "skip_h1_title": false,
   "title_cell": "Table of Contents",
   "title_sidebar": "Contents",
   "toc_cell": false,
   "toc_position": {},
   "toc_section_display": true,
   "toc_window_display": false
  },
  "varInspector": {
   "cols": {
    "lenName": 16,
    "lenType": 16,
    "lenVar": 40
   },
   "kernels_config": {
    "python": {
     "delete_cmd_postfix": "",
     "delete_cmd_prefix": "del ",
     "library": "var_list.py",
     "varRefreshCmd": "print(var_dic_list())"
    },
    "r": {
     "delete_cmd_postfix": ") ",
     "delete_cmd_prefix": "rm(",
     "library": "var_list.r",
     "varRefreshCmd": "cat(var_dic_list()) "
    }
   },
   "types_to_exclude": [
    "module",
    "function",
    "builtin_function_or_method",
    "instance",
    "_Feature"
   ],
   "window_display": false
  }
 },
 "nbformat": 4,
 "nbformat_minor": 5
}
