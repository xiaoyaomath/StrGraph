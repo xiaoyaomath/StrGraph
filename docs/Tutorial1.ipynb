{
 "cells": [
  {
   "cell_type": "markdown",
   "id": "b4b3dd6a",
   "metadata": {
    "heading_collapsed": true
   },
   "source": [
    "# Introduction"
   ]
  },
  {
   "cell_type": "markdown",
   "id": "ad20a2fa",
   "metadata": {
    "heading_collapsed": true,
    "hidden": true
   },
   "source": [
    "## Overview"
   ]
  },
  {
   "cell_type": "markdown",
   "id": "68c0b044",
   "metadata": {
    "hidden": true
   },
   "source": [
    "StrGraphCpp is a graph-based computation system designed for efficient string manipulation. It models computations and data dependencies as a Directed Acyclic Graph (DAG), where nodes represent string values and edges represent operations between nodes. The graph structure is defined in Python, allowing users to create flexible string-processing pipelines, while the computationally heavy operations are efficiently handled by a C++ backend."
   ]
  },
  {
   "cell_type": "markdown",
   "id": "296bc05e",
   "metadata": {
    "ExecuteTime": {
     "end_time": "2024-09-22T01:59:11.106074Z",
     "start_time": "2024-09-22T01:59:11.095599Z"
    },
    "hidden": true
   },
   "source": [
    "The core classes revolves around:\n",
    "\n",
    "**Nodes**: Representing string values or intermediate results.\n",
    "\n",
    "**Operations**: Functions that process strings by combining or modifying node values."
   ]
  },
  {
   "cell_type": "markdown",
   "id": "e8c6e527",
   "metadata": {
    "heading_collapsed": true,
    "hidden": true
   },
   "source": [
    "## Hello world"
   ]
  },
  {
   "cell_type": "code",
   "execution_count": 1,
   "id": "30f3d2dc",
   "metadata": {
    "ExecuteTime": {
     "end_time": "2024-09-22T01:54:55.717262Z",
     "start_time": "2024-09-22T01:54:55.708418Z"
    },
    "hidden": true
   },
   "outputs": [
    {
     "name": "stdout",
     "output_type": "stream",
     "text": [
      "Operation Info:\n",
      "  Name: Concat\n",
      "  Params: \n",
      "\n",
      "====== Node Info ======\n",
      "Node 3: \"Hello, World!\"  Operation: Concat\n",
      "Operation Info:\n",
      "  Name: Concat\n",
      "  Params: \n",
      "  Input Nodes Values: \"Hello, \" \"World!\" \n"
     ]
    }
   ],
   "source": [
    "import strgraph\n",
    "from strgraph import Node, Concat, manager, Operations, Operation\n",
    "\n",
    "# List available operations using the globally exposed 'manager'\n",
    "manager.list_operations()\n",
    "\n",
    "# Retrieve the 'concat' operation\n",
    "concat_op = Operations(\"Concat\")\n",
    "\n",
    "concat_op.print_info()\n",
    "\n",
    "node1 = Node(\"Hello, \")\n",
    "node2 = Node(\"World!\")\n",
    "\n",
    "node3 = Concat(node1, node2)\n",
    "\n",
    "node3.compute_string()\n",
    "\n",
    "node3.print_info()"
   ]
  },
  {
   "cell_type": "markdown",
   "id": "ed6be7fd",
   "metadata": {
    "heading_collapsed": true
   },
   "source": [
    "# Installation"
   ]
  },
  {
   "cell_type": "markdown",
   "id": "41a2b6db",
   "metadata": {
    "hidden": true
   },
   "source": [
    "To build and run StrGraphCpp, you will need Python 3.6 or higher, along with a C++11-compatible compiler. The package relies on pybind11 for creating Python bindings for the C++ code, and setuptools for building and distributing the package. You will also need CMake for managing the build process, and Python development headers (e.g., python3-dev for Linux or equivalent for your OS). On Linux, dependencies like python3-dev, cmake, and g++ can be installed via apt, while on macOS, tools like Python and CMake can be installed using brew. For Windows, you need Visual Studio with C++ tools and can install CMake and pybind11 via pip."
   ]
  },
  {
   "cell_type": "markdown",
   "id": "82608459",
   "metadata": {
    "hidden": true
   },
   "source": [
    "1. To install, download the source code to path/to/StrGraph.\n",
    "\n",
    "2. Open a terminal and navigate to the src/python directory within the source code.\n",
    "\n",
    "3. Install the package using pip \"pip install .\"\n",
    "\n",
    "Ensure that the Python version used for installation is the same version you will use for running the package.\n",
    "\n",
    "4. To verify the installation, open a Python environment and import the package: \"import strgraph\"."
   ]
  },
  {
   "cell_type": "markdown",
   "id": "71500017",
   "metadata": {
    "heading_collapsed": true
   },
   "source": [
    "# Node Class"
   ]
  },
  {
   "cell_type": "markdown",
   "id": "75d0bef4",
   "metadata": {
    "hidden": true
   },
   "source": [
    "The `Node` class represents a node in a computation graph for string operations. Each `Node` can hold a string value or represent an operation applied to other nodes. By connecting nodes, you can build complex string processing workflows."
   ]
  },
  {
   "cell_type": "markdown",
   "id": "5eda01ec",
   "metadata": {
    "hidden": true
   },
   "source": [
    "## Important Methods"
   ]
  },
  {
   "cell_type": "markdown",
   "id": "cd025349",
   "metadata": {
    "hidden": true
   },
   "source": [
    "### `__init__(self, value, op=None, inputNodes=[])`\n",
    "**Description**: Creates a new `Node`.  \n",
    "- **value** (str): The string value of the node.  \n",
    "- **op** (Operation, optional): The operation to apply to the input nodes.  \n",
    "- **inputNodes** (list of `Node`, optional): The input nodes for the operation.  \n",
    "\n",
    "### `string()`\n",
    "**Description**: Returns the current string value of the node.\n",
    "\n",
    "### `input_nodes()`\n",
    "**Description**: Returns a list of input nodes.\n",
    "\n",
    "### `set_string(newValue)`\n",
    "**Description**: Sets the string value of the node.  \n",
    "- **newValue** (str): The new string value for the node.\n",
    "\n",
    "### `set_input_nodes(inputNodes)`\n",
    "**Description**: Sets the list of input nodes.  \n",
    "- **inputNodes** (list of `Node`): The input nodes for the operation.\n",
    "\n",
    "### `set_operation(op)`\n",
    "**Description**: Sets the operation to be applied on the input nodes.  \n",
    "- **op** (`Operation`): The operation to be applied.\n",
    "\n",
    "### `compute_string()`\n",
    "**Description**: Computes the string value by applying the operation to input nodes.\n",
    "\n",
    "### `compute_graph()`\n",
    "**Description**: Computes the string values of the entire graph starting from this node.\n",
    "\n",
    "### `print_info()`\n",
    "**Description**: Prints detailed information about the node.\n",
    "\n",
    "### `update_operation_params(params)`\n",
    "**Description**: Updates the parameters of the associated operation.  \n",
    "- **params** (list of int): Parameters for the operation.\n",
    "\n",
    "### `print_graph(indentLevel=0)`\n",
    "**Description**: Prints the structure of the graph starting from this node.  \n",
    "- **indentLevel** (int, optional): The indentation level for printing the graph structure."
   ]
  },
  {
   "cell_type": "markdown",
   "id": "4367557f",
   "metadata": {},
   "source": [
    "# Operation Class"
   ]
  },
  {
   "cell_type": "markdown",
   "id": "5005f2d2",
   "metadata": {},
   "source": [
    "The `Operation` class encapsulates a string operation that can be applied to one or more input strings. Operations can be predefined (like 'Concat', 'Reverse') or user-defined functions."
   ]
  },
  {
   "cell_type": "markdown",
   "id": "ca3a1300",
   "metadata": {},
   "source": [
    "## Important Methods"
   ]
  },
  {
   "cell_type": "markdown",
   "id": "7df272e6",
   "metadata": {},
   "source": [
    "### `__init__(self, func, params=[], name=\"\")`\n",
    "**Description**: Creates a new `Operation`.  \n",
    "- **func** (callable): A function that takes a list of strings and returns a string.  \n",
    "- **params** (list of int, optional): Parameters for the operation.  \n",
    "- **name** (str, optional): Name of the operation.\n",
    "\n",
    "### `compute(inputStrings)`\n",
    "**Description**: Applies the operation to the input strings and returns the result.  \n",
    "- **inputStrings** (list of str): The input strings on which the operation will be applied.  \n",
    "- **Returns**: The result of applying the operation.\n",
    "\n",
    "### `get_name()`\n",
    "**Description**: Returns the name of the operation.  \n",
    "- **Returns**: The name of the operation as a string.\n",
    "\n",
    "### `print_info()`\n",
    "**Description**: Prints detailed information about the operation.\n",
    "\n",
    "### `clone()`\n",
    "**Description**: Creates a copy of the operation.  \n",
    "- **Returns**: A new `Operation` object that is a copy of the current one.\n",
    "\n",
    "### `set_params(params)`\n",
    "**Description**: Sets the parameters for the operation.  \n",
    "- **params** (list of int): The parameters to be used in the operation."
   ]
  },
  {
   "cell_type": "markdown",
   "id": "d72a3a3f",
   "metadata": {},
   "source": [
    "## Examples"
   ]
  },
  {
   "cell_type": "code",
   "execution_count": 1,
   "id": "9271ab7e",
   "metadata": {
    "ExecuteTime": {
     "end_time": "2024-09-22T07:18:08.898855Z",
     "start_time": "2024-09-22T07:18:08.839970Z"
    }
   },
   "outputs": [],
   "source": [
    "from strgraph import Operation\n",
    "\n",
    "# Define a custom operation function\n",
    "def custom_operation(input_strings):\n",
    "    # For this example, let's create an operation that repeats the first string\n",
    "    # a number of times specified in the operation's parameters\n",
    "    if len(input_strings) != 1:\n",
    "        raise RuntimeError(\"Custom operation requires exactly one input string.\")\n",
    "    # Access the parameters from the operation object\n",
    "    # Note: We'll handle parameters in a custom way since the Operation class doesn't directly pass them\n",
    "    # For this example, we'll assume the repetition count is 3\n",
    "    repetition_count = 3\n",
    "    return input_strings[0] * repetition_count\n",
    "\n",
    "# Create an Operation object with the custom function\n",
    "custom_op = Operation(custom_operation, [], \"CustomRepeat\")"
   ]
  },
  {
   "cell_type": "code",
   "execution_count": 24,
   "id": "6bea19d0",
   "metadata": {
    "ExecuteTime": {
     "end_time": "2024-09-22T07:14:28.700906Z",
     "start_time": "2024-09-22T07:14:28.697149Z"
    }
   },
   "outputs": [
    {
     "name": "stdout",
     "output_type": "stream",
     "text": [
      "Operation Info:\n",
      "Operation Info:\n",
      "  Name: CustomRepeat\n",
      "  Params: \n"
     ]
    }
   ],
   "source": [
    "# Print operation info\n",
    "print(\"Operation Info:\")\n",
    "custom_op.print_info()"
   ]
  },
  {
   "cell_type": "code",
   "execution_count": 17,
   "id": "1c2904f2",
   "metadata": {
    "ExecuteTime": {
     "end_time": "2024-09-22T06:58:53.014177Z",
     "start_time": "2024-09-22T06:58:53.010260Z"
    }
   },
   "outputs": [
    {
     "name": "stdout",
     "output_type": "stream",
     "text": [
      "\n",
      "Compute result with input ['Hello']: HelloHelloHello\n"
     ]
    }
   ],
   "source": [
    "# Use compute method\n",
    "input_strings = [\"Hello\"]\n",
    "result = custom_op.compute(input_strings)\n",
    "print(f\"\\nCompute result with input {input_strings}: {result}\")"
   ]
  },
  {
   "cell_type": "code",
   "execution_count": 18,
   "id": "90f288b4",
   "metadata": {
    "ExecuteTime": {
     "end_time": "2024-09-22T06:59:10.211525Z",
     "start_time": "2024-09-22T06:59:10.205247Z"
    }
   },
   "outputs": [
    {
     "name": "stdout",
     "output_type": "stream",
     "text": [
      "\n",
      "Operation Name: CustomRepeat\n"
     ]
    }
   ],
   "source": [
    "# Get operation name\n",
    "op_name = custom_op.get_name()\n",
    "print(f\"\\nOperation Name: {op_name}\")"
   ]
  },
  {
   "cell_type": "code",
   "execution_count": 19,
   "id": "cd39a95e",
   "metadata": {
    "ExecuteTime": {
     "end_time": "2024-09-22T06:59:15.284438Z",
     "start_time": "2024-09-22T06:59:15.279773Z"
    }
   },
   "outputs": [
    {
     "name": "stdout",
     "output_type": "stream",
     "text": [
      "\n",
      "Cloned Operation Info:\n",
      "Operation Info:\n",
      "  Name: CustomRepeat\n",
      "  Params: \n"
     ]
    }
   ],
   "source": [
    "# Clone the operation\n",
    "cloned_op = custom_op.clone()\n",
    "print(\"\\nCloned Operation Info:\")\n",
    "cloned_op.print_info()"
   ]
  },
  {
   "cell_type": "code",
   "execution_count": 20,
   "id": "f409a5f8",
   "metadata": {
    "ExecuteTime": {
     "end_time": "2024-09-22T06:59:22.184551Z",
     "start_time": "2024-09-22T06:59:22.178417Z"
    }
   },
   "outputs": [
    {
     "name": "stdout",
     "output_type": "stream",
     "text": [
      "\n",
      "Set new parameters [5] to the operation.\n",
      "Operation Info:\n",
      "  Name: CustomRepeat\n",
      "  Params: 5 \n"
     ]
    }
   ],
   "source": [
    "# Set new parameters (although in this example, our function doesn't use parameters directly)\n",
    "custom_op.set_params([5])\n",
    "print(\"\\nSet new parameters [5] to the operation.\")\n",
    "custom_op.print_info()"
   ]
  },
  {
   "cell_type": "markdown",
   "id": "badea73f",
   "metadata": {
    "heading_collapsed": true
   },
   "source": [
    "# NodeFactory Class"
   ]
  },
  {
   "cell_type": "markdown",
   "id": "8a3440e1",
   "metadata": {
    "hidden": true
   },
   "source": [
    "The `NodeFactory` class provides static methods to simplify the creation of nodes. It offers convenient methods to create value nodes and operation nodes without directly dealing with the constructors.\n"
   ]
  },
  {
   "cell_type": "markdown",
   "id": "ac978271",
   "metadata": {
    "hidden": true
   },
   "source": [
    "## Important Methods"
   ]
  },
  {
   "cell_type": "markdown",
   "id": "836c00e5",
   "metadata": {
    "hidden": true
   },
   "source": [
    "### `create_value_node(value)`\n",
    "**Description**: Creates a value node with the specified string.  \n",
    "- **value** (str): The string value for the node.  \n",
    "- **Returns**: A new `Node` instance with the given value.\n",
    "\n",
    "### `create_operation_node(opName, inputNodes)`\n",
    "**Description**: Creates an operation node using a registered operation name.  \n",
    "- **opName** (str): The name of the operation.  \n",
    "- **inputNodes** (list of `Node`): The input nodes to be used for the operation.  \n",
    "- **Returns**: A new `Node` instance with the operation applied."
   ]
  },
  {
   "cell_type": "markdown",
   "id": "46feb556",
   "metadata": {
    "hidden": true
   },
   "source": [
    "## Examples"
   ]
  },
  {
   "cell_type": "code",
   "execution_count": 6,
   "id": "a0c92792",
   "metadata": {
    "ExecuteTime": {
     "end_time": "2024-09-22T06:44:38.309407Z",
     "start_time": "2024-09-22T06:44:38.303408Z"
    },
    "hidden": true
   },
   "outputs": [
    {
     "name": "stdout",
     "output_type": "stream",
     "text": [
      "\n",
      "====== Node Info ======\n",
      "Node 9: \"Hello, World!\"  Operation: Concat\n",
      "Operation Info:\n",
      "  Name: Concat\n",
      "  Params: \n",
      "  Input Nodes Values: \"Hello, \" \"World!\" \n"
     ]
    }
   ],
   "source": [
    "node1 = strgraph.NodeFactory.create_value_node(\"Hello, \")\n",
    "node2 = strgraph.NodeFactory.create_value_node(\"World!\")\n",
    "node3 = strgraph.NodeFactory.create_operation_node(\"Concat\", [node1, node2])\n",
    "node3.compute_string()\n",
    "node3.print_info()"
   ]
  },
  {
   "cell_type": "markdown",
   "id": "f995d0ad",
   "metadata": {
    "heading_collapsed": true
   },
   "source": [
    "# OperationManager Class"
   ]
  },
  {
   "cell_type": "markdown",
   "id": "cadd1596",
   "metadata": {
    "hidden": true
   },
   "source": [
    "The `OperationManager` class is a singleton that manages all registered operations. It allows you to retrieve existing operations, register new ones, remove operations, and list all available operations.\n"
   ]
  },
  {
   "cell_type": "markdown",
   "id": "250cc0b3",
   "metadata": {
    "hidden": true
   },
   "source": [
    "## Important Methods\n",
    "\n",
    "### `get_instance()`\n",
    "**Description**: Returns the singleton instance of the `OperationManager`.  \n",
    "- **Returns**: The single instance of `OperationManager`.\n",
    "\n",
    "### `get_operation(name)`\n",
    "**Description**: Retrieves an operation by name.  \n",
    "- **name** (str): The name of the operation.  \n",
    "- **Returns**: The `Operation` instance with the specified name.  \n",
    "- **Raises**: RuntimeError if the operation is not found.\n",
    "\n",
    "### `register_operation(name, op)`\n",
    "**Description**: Registers a new operation under the given name.  \n",
    "- **name** (str): The name to register the operation under.  \n",
    "- **op** (`Operation`): The operation to register.\n",
    "\n",
    "### `remove_operation(name)`\n",
    "**Description**: Removes the operation with the specified name.  \n",
    "- **name** (str): The name of the operation to remove.  \n",
    "- **Raises**: RuntimeError if the operation is not found.\n",
    "\n",
    "### `update_operation(name, op)`\n",
    "**Description**: Updates an existing operation with a new definition.  \n",
    "- **name** (str): The name of the operation to update.  \n",
    "- **op** (`Operation`): The new operation to replace the old one.\n",
    "\n",
    "### `list_operations()`\n",
    "**Description**: Lists all registered operation names.  \n",
    "- **Returns**: A list of strings representing the names of all registered operations."
   ]
  },
  {
   "cell_type": "markdown",
   "id": "932b4e41",
   "metadata": {
    "hidden": true
   },
   "source": [
    "## Examples"
   ]
  },
  {
   "cell_type": "code",
   "execution_count": 7,
   "id": "c7e97cca",
   "metadata": {
    "ExecuteTime": {
     "end_time": "2024-09-22T06:54:18.360874Z",
     "start_time": "2024-09-22T06:54:18.356062Z"
    },
    "hidden": true
   },
   "outputs": [
    {
     "name": "stdout",
     "output_type": "stream",
     "text": [
      "Available operations:\n",
      "['Delete', 'ReplaceAll', 'Replace', 'Insert', 'Repeat', 'Reverse', 'Concat', 'Slice', 'Trim']\n"
     ]
    }
   ],
   "source": [
    "from strgraph import manager, Operation\n",
    "\n",
    "# List existing operations\n",
    "print(\"Available operations:\")\n",
    "print(manager.list_operations())"
   ]
  },
  {
   "cell_type": "code",
   "execution_count": 8,
   "id": "e51a90d1",
   "metadata": {
    "ExecuteTime": {
     "end_time": "2024-09-22T06:54:52.923103Z",
     "start_time": "2024-09-22T06:54:52.897727Z"
    },
    "hidden": true
   },
   "outputs": [
    {
     "name": "stdout",
     "output_type": "stream",
     "text": [
      "\n",
      "Retrieved operation:\n",
      "Operation Info:\n",
      "  Name: Concat\n",
      "  Params: \n"
     ]
    }
   ],
   "source": [
    "# Get an existing operation\n",
    "concat_op = manager.get_operation(\"Concat\")\n",
    "print(\"\\nRetrieved operation:\")\n",
    "concat_op.print_info()"
   ]
  },
  {
   "cell_type": "code",
   "execution_count": 13,
   "id": "739f034b",
   "metadata": {
    "ExecuteTime": {
     "end_time": "2024-09-22T06:56:07.618639Z",
     "start_time": "2024-09-22T06:56:07.611227Z"
    },
    "hidden": true
   },
   "outputs": [
    {
     "name": "stdout",
     "output_type": "stream",
     "text": [
      "\n",
      "Registered new operation 'UpperCase'.\n",
      "\n",
      "Available operations after registering 'UpperCase':\n",
      "['Delete', 'ReplaceAll', 'Replace', 'Insert', 'Repeat', 'Reverse', 'UpperCase', 'Concat', 'Slice', 'Trim']\n"
     ]
    }
   ],
   "source": [
    "# Define a new operation (e.g., UpperCase operation)\n",
    "def upper_case_operation(input_strings):\n",
    "    if len(input_strings) != 1:\n",
    "        raise RuntimeError(\"UpperCase operation requires exactly one input string.\")\n",
    "    return input_strings[0].upper()\n",
    "\n",
    "# Create an Operation object for the new operation\n",
    "uppercase_op = Operation(upper_case_operation, [], \"UpperCase\")\n",
    "\n",
    "# Register the new operation\n",
    "manager.register_operation(\"UpperCase\", uppercase_op)\n",
    "print(\"\\nRegistered new operation 'UpperCase'.\")\n",
    "\n",
    "# List operations after registering the new operation\n",
    "print(\"\\nAvailable operations after registering 'UpperCase':\")\n",
    "print(manager.list_operations())"
   ]
  },
  {
   "cell_type": "code",
   "execution_count": 10,
   "id": "7d4b10f7",
   "metadata": {
    "ExecuteTime": {
     "end_time": "2024-09-22T06:55:50.651850Z",
     "start_time": "2024-09-22T06:55:50.643591Z"
    },
    "hidden": true
   },
   "outputs": [
    {
     "name": "stdout",
     "output_type": "stream",
     "text": [
      "\n",
      "Updated 'Concat' operation to include a separator.\n",
      "\n",
      "Retrieved updated 'Concat' operation:\n",
      "Operation Info:\n",
      "  Name: Concat\n",
      "  Params: \n"
     ]
    }
   ],
   "source": [
    "# Update an existing operation (e.g., modify 'Concat' to add a separator)\n",
    "def concat_with_separator(input_strings):\n",
    "    if len(input_strings) < 2:\n",
    "        raise RuntimeError(\"Concat operation requires at least two input nodes.\")\n",
    "    separator = \" \"  # You can change the separator as needed\n",
    "    return separator.join(input_strings)\n",
    "\n",
    "# Create a new Operation object for the updated operation\n",
    "concat_with_separator_op = Operation(concat_with_separator, [], \"Concat\")\n",
    "\n",
    "# Update the 'Concat' operation\n",
    "manager.update_operation(\"Concat\", concat_with_separator_op)\n",
    "print(\"\\nUpdated 'Concat' operation to include a separator.\")\n",
    "\n",
    "# Retrieve and display the updated 'Concat' operation\n",
    "updated_concat_op = manager.get_operation(\"Concat\")\n",
    "print(\"\\nRetrieved updated 'Concat' operation:\")\n",
    "updated_concat_op.print_info()"
   ]
  },
  {
   "cell_type": "code",
   "execution_count": 14,
   "id": "54c8132a",
   "metadata": {
    "ExecuteTime": {
     "end_time": "2024-09-22T06:56:09.834193Z",
     "start_time": "2024-09-22T06:56:09.829138Z"
    },
    "hidden": true
   },
   "outputs": [
    {
     "name": "stdout",
     "output_type": "stream",
     "text": [
      "\n",
      "Removed 'UpperCase' operation.\n",
      "\n",
      "Available operations after removing 'UpperCase':\n",
      "['Delete', 'ReplaceAll', 'Replace', 'Insert', 'Repeat', 'Reverse', 'Concat', 'Slice', 'Trim']\n"
     ]
    }
   ],
   "source": [
    "# Remove an operation (e.g., 'UpperCase')\n",
    "manager.remove_operation(\"UpperCase\")\n",
    "print(\"\\nRemoved 'UpperCase' operation.\")\n",
    "\n",
    "# List operations after removing the operation\n",
    "print(\"\\nAvailable operations after removing 'UpperCase':\")\n",
    "print(manager.list_operations())"
   ]
  },
  {
   "cell_type": "markdown",
   "id": "946c6b70",
   "metadata": {},
   "source": [
    "# Operation List"
   ]
  },
  {
   "cell_type": "markdown",
   "id": "4dc05416",
   "metadata": {
    "ExecuteTime": {
     "end_time": "2024-09-22T03:23:43.963023Z",
     "start_time": "2024-09-22T03:23:43.956122Z"
    }
   },
   "source": [
    "Below are detailed descriptions of each operation available in the `OperationList`. Each operation can be used to manipulate strings within the computation graph."
   ]
  },
  {
   "cell_type": "markdown",
   "id": "7fe0278d",
   "metadata": {},
   "source": [
    "## Concat Operation\n",
    "**Description**: Concatenates two input strings into one.  \n",
    "- **Parameters**: Two strings to be concatenated.\n",
    "- **Input**: A list containing two strings.\n",
    "\n",
    "**Usage**:  \n",
    "`Concat(node1, node2)`"
   ]
  },
  {
   "cell_type": "markdown",
   "id": "3e821cde",
   "metadata": {
    "ExecuteTime": {
     "end_time": "2024-09-22T03:29:07.833928Z",
     "start_time": "2024-09-22T03:29:07.826597Z"
    }
   },
   "source": [
    "## Slice Operation\n",
    "**Description**: Extracts a substring from a string based on the provided start and end indices.  \n",
    "- **Parameters**: The string to slice, start index, end index.\n",
    "- **Input**: A list of strings where the first is the target string, the second is the start index, and the third is the end index.\n",
    "\n",
    "**Usage**:  \n",
    "`slice_op = Node(\"\", Operations(\"Slice\"), [string_node, start_node, end_node])`\n"
   ]
  },
  {
   "cell_type": "code",
   "execution_count": null,
   "id": "87b9a0e7",
   "metadata": {},
   "outputs": [],
   "source": []
  }
 ],
 "metadata": {
  "kernelspec": {
   "display_name": "Python 3 (ipykernel)",
   "language": "python",
   "name": "python3"
  },
  "language_info": {
   "codemirror_mode": {
    "name": "ipython",
    "version": 3
   },
   "file_extension": ".py",
   "mimetype": "text/x-python",
   "name": "python",
   "nbconvert_exporter": "python",
   "pygments_lexer": "ipython3",
   "version": "3.10.11"
  },
  "toc": {
   "base_numbering": 1,
   "nav_menu": {},
   "number_sections": true,
   "sideBar": true,
   "skip_h1_title": false,
   "title_cell": "Table of Contents",
   "title_sidebar": "Contents",
   "toc_cell": false,
   "toc_position": {},
   "toc_section_display": true,
   "toc_window_display": false
  },
  "varInspector": {
   "cols": {
    "lenName": 16,
    "lenType": 16,
    "lenVar": 40
   },
   "kernels_config": {
    "python": {
     "delete_cmd_postfix": "",
     "delete_cmd_prefix": "del ",
     "library": "var_list.py",
     "varRefreshCmd": "print(var_dic_list())"
    },
    "r": {
     "delete_cmd_postfix": ") ",
     "delete_cmd_prefix": "rm(",
     "library": "var_list.r",
     "varRefreshCmd": "cat(var_dic_list()) "
    }
   },
   "types_to_exclude": [
    "module",
    "function",
    "builtin_function_or_method",
    "instance",
    "_Feature"
   ],
   "window_display": false
  }
 },
 "nbformat": 4,
 "nbformat_minor": 5
}
