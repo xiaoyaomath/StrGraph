{
 "cells": [
  {
   "cell_type": "code",
   "execution_count": 1,
   "id": "cfcf7c81",
   "metadata": {
    "ExecuteTime": {
     "end_time": "2024-09-20T10:34:26.249487Z",
     "start_time": "2024-09-20T10:34:26.117281Z"
    }
   },
   "outputs": [
    {
     "ename": "ModuleNotFoundError",
     "evalue": "No module named 'strgraph'",
     "output_type": "error",
     "traceback": [
      "\u001b[0;31m---------------------------------------------------------------------------\u001b[0m",
      "\u001b[0;31mModuleNotFoundError\u001b[0m                       Traceback (most recent call last)",
      "Cell \u001b[0;32mIn[1], line 1\u001b[0m\n\u001b[0;32m----> 1\u001b[0m \u001b[38;5;28;01mimport\u001b[39;00m \u001b[38;5;21;01mstrgraph\u001b[39;00m\n\u001b[1;32m      2\u001b[0m \u001b[38;5;28;01mfrom\u001b[39;00m \u001b[38;5;21;01mstrgraph\u001b[39;00m \u001b[38;5;28;01mimport\u001b[39;00m Node, Concat\n\u001b[1;32m      4\u001b[0m \u001b[38;5;66;03m# List available operations using the globally exposed 'manager'\u001b[39;00m\n",
      "\u001b[0;31mModuleNotFoundError\u001b[0m: No module named 'strgraph'"
     ]
    }
   ],
   "source": [
    "import strgraph\n",
    "from strgraph import Node, Concat\n",
    "\n",
    "# List available operations using the globally exposed 'manager'\n",
    "strgraph.manager.list_operations()\n",
    "\n",
    "# Retrieve the 'concat' operation\n",
    "concat_op = strgraph.manager.get_operation(\"Concat\")\n",
    "\n",
    "# Print operation info\n",
    "concat_op.print_info()\n",
    "\n",
    "# Test concatenation operation using NodeFactory\n",
    "node1 = Node(\"Hello, \")\n",
    "node2 = Node(\"World!\")\n",
    "\n",
    "# concat_node = strgraph.NodeFactory.create_operation_node(\"Concat\", [node1, node2])\n",
    "# node3 = strgraph.NodeFactory.create_operation_node(\"Concat\", [node1, node2])\n",
    "node3 = Concat(node1, node2)\n",
    "\n",
    "node1.set_string(\"你好, \")\n",
    "\n",
    "node3.set_string(\"foo\")\n",
    "node3.print_info()\n",
    "\n",
    "node4 = Node(\"世界\")\n",
    "\n",
    "node3.set_input_nodes([node1, node4])\n",
    "\n",
    "result = node3.compute_string()\n",
    "\n",
    "# Compute the result\n",
    "# result = concat_node.compute_string()\n",
    "print(\"Concatenation result:\", result)\n"
   ]
  },
  {
   "cell_type": "code",
   "execution_count": null,
   "id": "7ac32b48",
   "metadata": {},
   "outputs": [],
   "source": []
  }
 ],
 "metadata": {
  "kernelspec": {
   "display_name": "Python 3 (ipykernel)",
   "language": "python",
   "name": "python3"
  },
  "language_info": {
   "codemirror_mode": {
    "name": "ipython",
    "version": 3
   },
   "file_extension": ".py",
   "mimetype": "text/x-python",
   "name": "python",
   "nbconvert_exporter": "python",
   "pygments_lexer": "ipython3",
   "version": "3.10.11"
  },
  "toc": {
   "base_numbering": 1,
   "nav_menu": {},
   "number_sections": true,
   "sideBar": true,
   "skip_h1_title": false,
   "title_cell": "Table of Contents",
   "title_sidebar": "Contents",
   "toc_cell": false,
   "toc_position": {},
   "toc_section_display": true,
   "toc_window_display": false
  },
  "varInspector": {
   "cols": {
    "lenName": 16,
    "lenType": 16,
    "lenVar": 40
   },
   "kernels_config": {
    "python": {
     "delete_cmd_postfix": "",
     "delete_cmd_prefix": "del ",
     "library": "var_list.py",
     "varRefreshCmd": "print(var_dic_list())"
    },
    "r": {
     "delete_cmd_postfix": ") ",
     "delete_cmd_prefix": "rm(",
     "library": "var_list.r",
     "varRefreshCmd": "cat(var_dic_list()) "
    }
   },
   "types_to_exclude": [
    "module",
    "function",
    "builtin_function_or_method",
    "instance",
    "_Feature"
   ],
   "window_display": false
  }
 },
 "nbformat": 4,
 "nbformat_minor": 5
}
