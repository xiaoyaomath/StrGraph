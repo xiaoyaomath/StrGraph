{
 "cells": [
  {
   "cell_type": "code",
   "execution_count": 1,
   "id": "91fa537b",
   "metadata": {
    "ExecuteTime": {
     "end_time": "2024-09-21T08:49:09.475036Z",
     "start_time": "2024-09-21T08:49:07.215551Z"
    }
   },
   "outputs": [
    {
     "name": "stdout",
     "output_type": "stream",
     "text": [
      "Name: StrGraph\n",
      "Version: 1.0\n",
      "Summary: A Python package to execute string operations using graph structure.\n",
      "Home-page: \n",
      "Author: \n",
      "Author-email: \n",
      "License: \n",
      "Location: /Library/Frameworks/Python.framework/Versions/3.10/lib/python3.10/site-packages\n",
      "Requires: \n",
      "Required-by: \n",
      "Note: you may need to restart the kernel to use updated packages.\n"
     ]
    }
   ],
   "source": [
    "pip show strgraph"
   ]
  },
  {
   "cell_type": "code",
   "execution_count": 3,
   "id": "0c4b60a3",
   "metadata": {
    "ExecuteTime": {
     "end_time": "2024-09-21T08:50:00.341999Z",
     "start_time": "2024-09-21T08:50:00.319627Z"
    }
   },
   "outputs": [
    {
     "name": "stdout",
     "output_type": "stream",
     "text": [
      "/Library/Frameworks/Python.framework/Versions/3.10/bin/python3.10\n"
     ]
    },
    {
     "ename": "ModuleNotFoundError",
     "evalue": "No module named 'strgraph'",
     "output_type": "error",
     "traceback": [
      "\u001b[0;31m---------------------------------------------------------------------------\u001b[0m",
      "\u001b[0;31mModuleNotFoundError\u001b[0m                       Traceback (most recent call last)",
      "Cell \u001b[0;32mIn[3], line 4\u001b[0m\n\u001b[1;32m      1\u001b[0m \u001b[38;5;28;01mimport\u001b[39;00m \u001b[38;5;21;01msys\u001b[39;00m\n\u001b[1;32m      2\u001b[0m \u001b[38;5;28mprint\u001b[39m(sys\u001b[38;5;241m.\u001b[39mexecutable)\n\u001b[0;32m----> 4\u001b[0m \u001b[38;5;28;01mimport\u001b[39;00m \u001b[38;5;21;01mstrgraph\u001b[39;00m\n",
      "\u001b[0;31mModuleNotFoundError\u001b[0m: No module named 'strgraph'"
     ]
    }
   ],
   "source": [
    "import sys\n",
    "print(sys.executable)\n",
    "\n",
    "import strgraph"
   ]
  },
  {
   "cell_type": "code",
   "execution_count": 4,
   "id": "44a714a1",
   "metadata": {
    "ExecuteTime": {
     "end_time": "2024-09-21T08:51:00.155315Z",
     "start_time": "2024-09-21T08:50:57.780431Z"
    }
   },
   "outputs": [
    {
     "name": "stdout",
     "output_type": "stream",
     "text": [
      "Requirement already satisfied: strgraph in /Library/Frameworks/Python.framework/Versions/3.10/lib/python3.10/site-packages (1.0)\n",
      "\n",
      "\u001b[1m[\u001b[0m\u001b[34;49mnotice\u001b[0m\u001b[1;39;49m]\u001b[0m\u001b[39;49m A new release of pip is available: \u001b[0m\u001b[31;49m24.0\u001b[0m\u001b[39;49m -> \u001b[0m\u001b[32;49m24.2\u001b[0m\n",
      "\u001b[1m[\u001b[0m\u001b[34;49mnotice\u001b[0m\u001b[1;39;49m]\u001b[0m\u001b[39;49m To update, run: \u001b[0m\u001b[32;49mpip3.10 install --upgrade pip\u001b[0m\n",
      "Note: you may need to restart the kernel to use updated packages.\n"
     ]
    }
   ],
   "source": [
    "pip install strgraph"
   ]
  },
  {
   "cell_type": "code",
   "execution_count": 6,
   "id": "50abf6a4",
   "metadata": {
    "ExecuteTime": {
     "end_time": "2024-09-21T08:52:54.688630Z",
     "start_time": "2024-09-21T08:52:54.426154Z"
    }
   },
   "outputs": [
    {
     "name": "stdout",
     "output_type": "stream",
     "text": [
      "/Users/xiaoyao/miniconda3/envs/lightgbm_env/bin/python\n",
      "/Users/xiaoyao/miniconda3/envs/lightgbm_env/bin/pip\n"
     ]
    }
   ],
   "source": [
    "!which python\n",
    "!which pip\n"
   ]
  },
  {
   "cell_type": "code",
   "execution_count": 7,
   "id": "8e7597ef",
   "metadata": {
    "ExecuteTime": {
     "end_time": "2024-09-21T08:53:26.493942Z",
     "start_time": "2024-09-21T08:53:26.488231Z"
    }
   },
   "outputs": [
    {
     "name": "stdout",
     "output_type": "stream",
     "text": [
      "/Library/Frameworks/Python.framework/Versions/3.10/bin/python3.10\n"
     ]
    }
   ],
   "source": [
    "import sys\n",
    "print(sys.executable)\n"
   ]
  },
  {
   "cell_type": "code",
   "execution_count": 8,
   "id": "02a0808c",
   "metadata": {
    "ExecuteTime": {
     "end_time": "2024-09-21T08:53:34.209046Z",
     "start_time": "2024-09-21T08:53:31.843006Z"
    }
   },
   "outputs": [
    {
     "name": "stdout",
     "output_type": "stream",
     "text": [
      "Requirement already satisfied: strgraph in /Library/Frameworks/Python.framework/Versions/3.10/lib/python3.10/site-packages (1.0)\n",
      "\n",
      "\u001b[1m[\u001b[0m\u001b[34;49mnotice\u001b[0m\u001b[1;39;49m]\u001b[0m\u001b[39;49m A new release of pip is available: \u001b[0m\u001b[31;49m24.0\u001b[0m\u001b[39;49m -> \u001b[0m\u001b[32;49m24.2\u001b[0m\n",
      "\u001b[1m[\u001b[0m\u001b[34;49mnotice\u001b[0m\u001b[1;39;49m]\u001b[0m\u001b[39;49m To update, run: \u001b[0m\u001b[32;49mpip3.10 install --upgrade pip\u001b[0m\n"
     ]
    }
   ],
   "source": [
    "import sys\n",
    "!{sys.executable} -m pip install strgraph\n"
   ]
  },
  {
   "cell_type": "code",
   "execution_count": 9,
   "id": "0080d8f8",
   "metadata": {
    "ExecuteTime": {
     "end_time": "2024-09-21T08:53:48.234582Z",
     "start_time": "2024-09-21T08:53:48.208472Z"
    }
   },
   "outputs": [
    {
     "ename": "ModuleNotFoundError",
     "evalue": "No module named 'strgraph'",
     "output_type": "error",
     "traceback": [
      "\u001b[0;31m---------------------------------------------------------------------------\u001b[0m",
      "\u001b[0;31mModuleNotFoundError\u001b[0m                       Traceback (most recent call last)",
      "Cell \u001b[0;32mIn[9], line 1\u001b[0m\n\u001b[0;32m----> 1\u001b[0m \u001b[38;5;28;01mimport\u001b[39;00m \u001b[38;5;21;01mstrgraph\u001b[39;00m\n\u001b[1;32m      2\u001b[0m \u001b[38;5;28mprint\u001b[39m(\u001b[38;5;124m\"\u001b[39m\u001b[38;5;124mstrgraph module imported successfully!\u001b[39m\u001b[38;5;124m\"\u001b[39m)\n",
      "\u001b[0;31mModuleNotFoundError\u001b[0m: No module named 'strgraph'"
     ]
    }
   ],
   "source": [
    "import strgraph\n",
    "print(\"strgraph module imported successfully!\")\n"
   ]
  },
  {
   "cell_type": "code",
   "execution_count": 1,
   "id": "1438e881",
   "metadata": {
    "ExecuteTime": {
     "end_time": "2024-09-21T08:56:24.784359Z",
     "start_time": "2024-09-21T08:56:22.211524Z"
    }
   },
   "outputs": [
    {
     "name": "stdout",
     "output_type": "stream",
     "text": [
      "strgraph module imported successfully!\n"
     ]
    }
   ],
   "source": [
    "import strgraph\n",
    "print(\"strgraph module imported successfully!\")\n"
   ]
  },
  {
   "cell_type": "code",
   "execution_count": 2,
   "id": "5876bb6e",
   "metadata": {
    "ExecuteTime": {
     "end_time": "2024-09-21T08:56:01.209692Z",
     "start_time": "2024-09-21T08:56:01.204656Z"
    }
   },
   "outputs": [
    {
     "name": "stdout",
     "output_type": "stream",
     "text": [
      "/Library/Frameworks/Python.framework/Versions/3.10/bin/python3.10\n"
     ]
    }
   ],
   "source": [
    "import sys\n",
    "print(sys.executable)\n"
   ]
  },
  {
   "cell_type": "code",
   "execution_count": 2,
   "id": "f5e3363c",
   "metadata": {
    "ExecuteTime": {
     "end_time": "2024-09-21T08:57:15.269922Z",
     "start_time": "2024-09-21T08:57:15.259333Z"
    }
   },
   "outputs": [
    {
     "name": "stdout",
     "output_type": "stream",
     "text": [
      "Operation Info:\n",
      "  Name: Concat\n",
      "  Params: \n",
      " Node 5: \"\" Operation: \"Concat\"\n",
      "-> Node 4: \"\" Operation: \"Concat\"\n",
      "->-> Node 1: \"a\" Operation: \n",
      "->-> Node 2: \"b\" Operation: \n",
      "-> Node 3: \"c\" Operation: \n",
      "BFS Traversal Order: 5, 4, 3, 1, 2, \n",
      "Computing in reverse order:\n",
      "Computing Node 2: b\n",
      "Computing Node 1: a\n",
      "Computing Node 3: c\n",
      "Computing Node 4: ab\n",
      "Computing Node 5: abc\n",
      " Node 5: \"\" Operation: \"Concat\"\n",
      "-> Node 4: \"ab\" Operation: \"Concat\"\n",
      "->-> Node 1: \"a\" Operation: \n",
      "->-> Node 2: \"b\" Operation: \n",
      "-> Node 3: \"c\" Operation: \n"
     ]
    }
   ],
   "source": [
    "import strgraph\n",
    "from strgraph import Node, Concat, manager, Operations, Operation\n",
    "\n",
    "# List available operations using the globally exposed 'manager'\n",
    "manager.list_operations()\n",
    "\n",
    "# Retrieve the 'concat' operation\n",
    "concat_op = Operations(\"Concat\")\n",
    "\n",
    "\n",
    "# Print operation info\n",
    "concat_op.print_info()\n",
    "\n",
    "# Test concatenation operation using NodeFactory\n",
    "# node1 = Node(\"Hello, \")\n",
    "# node2 = Node(\"World!\")\n",
    "\n",
    "\"\"\"\n",
    "# concat_node = strgraph.NodeFactory.create_operation_node(\"Concat\", [node1, node2])\n",
    "# node3 = strgraph.NodeFactory.create_operation_node(\"Concat\", [node1, node2])\n",
    "node3 = Concat(node1, node2)\n",
    "\n",
    "node1.set_string(\"你好, \")\n",
    "\n",
    "node3.set_string(\"foo\")\n",
    "node3.print_info()\n",
    "\n",
    "node4 = Node(\"世界\")\n",
    "\n",
    "node3.set_input_nodes([node1, node4])\n",
    "\n",
    "result = node3.compute_string()\n",
    "\n",
    "# Compute the result\n",
    "# result = concat_node.compute_string()\n",
    "print(\"Concatenation result:\", result)\n",
    "\"\"\"\n",
    "\n",
    "def self_defined_function(s):\n",
    "    return s[0].upper()\n",
    "\n",
    "\n",
    "upper_op = Operation(self_defined_function, [], \"Upper\")\n",
    "\n",
    "\"\"\"\n",
    "node5 = Node(\"\", upper_op, [node1])\n",
    "\n",
    "node5.compute_string()\n",
    "\n",
    "print(node5.get_string())\n",
    "\n",
    "node5.print_info()\n",
    "\"\"\"\n",
    "\n",
    "\"\"\"\n",
    "manager.register(\"Upper\", upper_op)\n",
    "\n",
    "upper2_op = Operations(\"Upper\")\n",
    "\n",
    "node6 = Node(\"\", upper_op, [node1])\n",
    "\n",
    "node6.compute_string()\n",
    "\n",
    "print(node6.get_string())\n",
    "\n",
    "node6.print_info()\n",
    "\"\"\"\n",
    "\n",
    "\n",
    "nodea = Node('a')\n",
    "nodeb = Node('b')\n",
    "nodec = Node('c')\n",
    "nodeab = Concat(nodea, nodeb)\n",
    "nodeabc = Concat(nodeab, nodec)\n",
    "# nodeab.compute_string()\n",
    "# nodeabc.compute_string()\n",
    "nodeabc.print_graph(0)\n",
    "nodeabc.compute_graph()\n",
    "nodeabc.print_graph(0)\n",
    "\n"
   ]
  },
  {
   "cell_type": "code",
   "execution_count": 7,
   "id": "37e95e47",
   "metadata": {
    "ExecuteTime": {
     "end_time": "2024-09-21T08:59:33.508396Z",
     "start_time": "2024-09-21T08:59:33.502698Z"
    }
   },
   "outputs": [
    {
     "name": "stdout",
     "output_type": "stream",
     "text": [
      "Node Info: ID: 16 : \"aa\"  Operation: Delete\n",
      "Operation Info:\n",
      "  Name: Delete\n",
      "  Params: \n",
      "  Input Nodes Values: \"aaa\" \"a\" \n"
     ]
    }
   ],
   "source": [
    "from strgraph import delete_op\n",
    "aaa = Node(\"aaa\")\n",
    "a = Node(\"a\")\n",
    "aa = Node(\"\", delete_op, [aaa, a])\n",
    "aa.compute_string()\n",
    "aa.print_info()"
   ]
  },
  {
   "cell_type": "code",
   "execution_count": null,
   "id": "1f0a4d1e",
   "metadata": {},
   "outputs": [],
   "source": []
  },
  {
   "cell_type": "code",
   "execution_count": null,
   "id": "a077d475",
   "metadata": {},
   "outputs": [],
   "source": []
  }
 ],
 "metadata": {
  "kernelspec": {
   "display_name": "lightgbm_env",
   "language": "python",
   "name": "lightgbm_env"
  },
  "language_info": {
   "codemirror_mode": {
    "name": "ipython",
    "version": 3
   },
   "file_extension": ".py",
   "mimetype": "text/x-python",
   "name": "python",
   "nbconvert_exporter": "python",
   "pygments_lexer": "ipython3",
   "version": "3.10.14"
  },
  "toc": {
   "base_numbering": 1,
   "nav_menu": {},
   "number_sections": true,
   "sideBar": true,
   "skip_h1_title": false,
   "title_cell": "Table of Contents",
   "title_sidebar": "Contents",
   "toc_cell": false,
   "toc_position": {},
   "toc_section_display": true,
   "toc_window_display": false
  },
  "varInspector": {
   "cols": {
    "lenName": 16,
    "lenType": 16,
    "lenVar": 40
   },
   "kernels_config": {
    "python": {
     "delete_cmd_postfix": "",
     "delete_cmd_prefix": "del ",
     "library": "var_list.py",
     "varRefreshCmd": "print(var_dic_list())"
    },
    "r": {
     "delete_cmd_postfix": ") ",
     "delete_cmd_prefix": "rm(",
     "library": "var_list.r",
     "varRefreshCmd": "cat(var_dic_list()) "
    }
   },
   "types_to_exclude": [
    "module",
    "function",
    "builtin_function_or_method",
    "instance",
    "_Feature"
   ],
   "window_display": false
  }
 },
 "nbformat": 4,
 "nbformat_minor": 5
}
